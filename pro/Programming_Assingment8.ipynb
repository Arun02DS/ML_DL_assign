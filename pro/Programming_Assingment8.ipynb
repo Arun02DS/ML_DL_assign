{
 "cells": [
  {
   "attachments": {},
   "cell_type": "markdown",
   "metadata": {},
   "source": [
    "Write a Python Program to Add Two Matrices?"
   ]
  },
  {
   "cell_type": "code",
   "execution_count": 1,
   "metadata": {},
   "outputs": [
    {
     "name": "stdout",
     "output_type": "stream",
     "text": [
      "The Sum of two matrix [[1, 6, 4], [4, 5, 6], [7, 6, 9]]  and [[2, 5, 4], [5, 8, 7], [8, 3, 1]]  is \n",
      "[[3, 11, 8], [9, 13, 13], [15, 9, 10]] \n"
     ]
    }
   ],
   "source": [
    "#solution 1\n",
    "mat1 = [[1,6,4],\n",
    "        [4,5,6],\n",
    "        [7,6,9]]\n",
    "\n",
    "mat2 = [[2,5,4],\n",
    "        [5,8,7],\n",
    "        [8,3,1]]\n",
    "\n",
    "sumMat = [[0,0,0],\n",
    "          [0,0,0],\n",
    "          [0,0,0]]\n",
    "\n",
    "sumMat = [[mat1[i][j] + mat2[i][j] for j in range(len(mat1[0]))] for i in range(len(mat1))]\n",
    "print(\"The Sum of two matrix {}  and {}  is \\n{} \".format(mat1,mat2,sumMat))"
   ]
  },
  {
   "cell_type": "code",
   "execution_count": 3,
   "metadata": {},
   "outputs": [
    {
     "name": "stdout",
     "output_type": "stream",
     "text": [
      "The Sum of two matrix \n",
      "\n",
      "[[1 6 4]\n",
      " [4 5 6]\n",
      " [7 6 9]]  and \n",
      "\n",
      "[[2 5 4]\n",
      " [5 8 7]\n",
      " [8 3 1]]  is \n",
      "\n",
      "[[ 3 11  8]\n",
      " [ 9 13 13]\n",
      " [15  9 10]] \n"
     ]
    }
   ],
   "source": [
    "# solution 2\n",
    "import numpy as np\n",
    "\n",
    "mat1 = np.array([[1,6,4],\n",
    "        [4,5,6],\n",
    "        [7,6,9]])\n",
    "mat2 = np.array([[2,5,4],\n",
    "        [5,8,7],\n",
    "        [8,3,1]])\n",
    "\n",
    "sumMat = np.add(mat1,mat2)\n",
    "print(\"The Sum of two matrix \\n\\n{}  and \\n\\n{}  is \\n\\n{} \".format(mat1,mat2,sumMat))"
   ]
  },
  {
   "attachments": {},
   "cell_type": "markdown",
   "metadata": {},
   "source": [
    "Write a Python Program to Multiply Two Matrices?"
   ]
  },
  {
   "cell_type": "code",
   "execution_count": 13,
   "metadata": {},
   "outputs": [
    {
     "name": "stdout",
     "output_type": "stream",
     "text": [
      "Product of \n",
      "\n",
      "[[1, 6, 4], [4, 5, 6], [7, 6, 9]] and \n",
      "\n",
      "[[2, 5, 4], [5, 8, 7], [8, 3, 1]] is \n",
      "\n",
      "[[64, 65, 50], [81, 78, 57], [116, 110, 79]]\n"
     ]
    }
   ],
   "source": [
    "#solution 1\n",
    "mat1 = [[1,6,4],\n",
    "        [4,5,6],\n",
    "        [7,6,9]]\n",
    "\n",
    "mat2 = [[2,5,4],\n",
    "        [5,8,7],\n",
    "        [8,3,1]]\n",
    "\n",
    "result = [[0,0,0],\n",
    "          [0,0,0],\n",
    "          [0,0,0]]\n",
    "\n",
    "for i in range(len(mat1)):\n",
    " \n",
    "    # iterating by column by B\n",
    "    for j in range(len(mat2[0])):\n",
    " \n",
    "        # iterating by rows of B\n",
    "        for k in range(len(mat2)):\n",
    "            result[i][j] += mat1[i][k] * mat2[k][j]\n",
    " \n",
    "\n",
    "print(f\"Product of \\n\\n{mat1} and \\n\\n{mat2} is \\n\\n{result}\")"
   ]
  },
  {
   "cell_type": "code",
   "execution_count": 5,
   "metadata": {},
   "outputs": [
    {
     "name": "stdout",
     "output_type": "stream",
     "text": [
      "The product of two matrix \n",
      "\n",
      "[[1 6 4]\n",
      " [4 5 6]\n",
      " [7 6 9]]  and \n",
      "\n",
      "[[2 5 4]\n",
      " [5 8 7]\n",
      " [8 3 1]]  is \n",
      "\n",
      "[[ 64  65  50]\n",
      " [ 81  78  57]\n",
      " [116 110  79]] \n"
     ]
    }
   ],
   "source": [
    "# solution 2\n",
    "import numpy as np\n",
    "\n",
    "mat1 = np.array([[1,6,4],\n",
    "        [4,5,6],\n",
    "        [7,6,9]])\n",
    "mat2 = np.array([[2,5,4],\n",
    "        [5,8,7],\n",
    "        [8,3,1]])\n",
    "\n",
    "sumMat = np.dot(mat1,mat2)\n",
    "print(\"The product of two matrix \\n\\n{}  and \\n\\n{}  is \\n\\n{} \".format(mat1,mat2,sumMat))"
   ]
  },
  {
   "attachments": {},
   "cell_type": "markdown",
   "metadata": {},
   "source": [
    "Write a Python Program to Transpose a Matrix?"
   ]
  },
  {
   "cell_type": "code",
   "execution_count": 14,
   "metadata": {},
   "outputs": [
    {
     "name": "stdout",
     "output_type": "stream",
     "text": [
      "Original Matrix:\n",
      "[1, 1, 1, 1]\n",
      "[2, 2, 2, 2]\n",
      "[3, 3, 3, 3]\n",
      "[4, 4, 4, 4]\n",
      "Transposed Matrix:\n",
      "[1, 2, 3, 4]\n",
      "[1, 2, 3, 4]\n",
      "[1, 2, 3, 4]\n",
      "[1, 2, 3, 4]\n"
     ]
    }
   ],
   "source": [
    "matrix = [[1, 1, 1, 1],\n",
    "          [2, 2, 2, 2],\n",
    "          [3, 3, 3, 3],\n",
    "          [4, 4, 4, 4]]\n",
    " \n",
    "transpose = [list(row) for row in zip(*matrix)]\n",
    " \n",
    "print(\"Original Matrix:\")\n",
    "for row in matrix:\n",
    "    print(row)\n",
    " \n",
    "print(\"Transposed Matrix:\")\n",
    "for row in transpose:\n",
    "    print(row)"
   ]
  },
  {
   "attachments": {},
   "cell_type": "markdown",
   "metadata": {},
   "source": [
    "Write a Python Program to Sort Words in Alphabetic Order?"
   ]
  },
  {
   "cell_type": "code",
   "execution_count": 16,
   "metadata": {},
   "outputs": [],
   "source": [
    "def sort_strng(strng:str):\n",
    "    \"\"\"sort list in alphabatical order\"\"\"\n",
    "    lst=[i for i in strng]\n",
    "    lst.sort()\n",
    "    return \"\".join(lst)\n"
   ]
  },
  {
   "cell_type": "code",
   "execution_count": 17,
   "metadata": {},
   "outputs": [
    {
     "data": {
      "text/plain": [
       "'ceruv'"
      ]
     },
     "execution_count": 17,
     "metadata": {},
     "output_type": "execute_result"
    }
   ],
   "source": [
    "sort_strng(\"curve\")"
   ]
  },
  {
   "attachments": {},
   "cell_type": "markdown",
   "metadata": {},
   "source": [
    "Write a Python Program to Remove Punctuation From a String?"
   ]
  },
  {
   "cell_type": "code",
   "execution_count": 18,
   "metadata": {},
   "outputs": [],
   "source": [
    "def no_punc(strng:str):\n",
    "    \"\"\"remove punctuation from string\"\"\"\n",
    "    punc=punctuations = '''!()-[]{};:'\"\\,<>./?@#$%^&*_~'''\n",
    "    lst=[]\n",
    "    for i in strng:\n",
    "        if i not in punc:\n",
    "            lst.append(i)\n",
    "    return \"\".join(lst)\n"
   ]
  },
  {
   "cell_type": "code",
   "execution_count": 19,
   "metadata": {},
   "outputs": [
    {
     "data": {
      "text/plain": [
       "'bad bomb'"
      ]
     },
     "execution_count": 19,
     "metadata": {},
     "output_type": "execute_result"
    }
   ],
   "source": [
    "no_punc(\"bad! bom$$$b\")"
   ]
  },
  {
   "cell_type": "code",
   "execution_count": null,
   "metadata": {},
   "outputs": [],
   "source": []
  }
 ],
 "metadata": {
  "kernelspec": {
   "display_name": "Python 3",
   "language": "python",
   "name": "python3"
  },
  "language_info": {
   "codemirror_mode": {
    "name": "ipython",
    "version": 3
   },
   "file_extension": ".py",
   "mimetype": "text/x-python",
   "name": "python",
   "nbconvert_exporter": "python",
   "pygments_lexer": "ipython3",
   "version": "3.8.0"
  },
  "orig_nbformat": 4
 },
 "nbformat": 4,
 "nbformat_minor": 2
}
