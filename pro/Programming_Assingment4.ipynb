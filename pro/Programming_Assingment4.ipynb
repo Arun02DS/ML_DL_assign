{
 "cells": [
  {
   "attachments": {},
   "cell_type": "markdown",
   "metadata": {},
   "source": [
    "Write a Python Program to Find the Factorial of a Number?"
   ]
  },
  {
   "cell_type": "code",
   "execution_count": 3,
   "metadata": {},
   "outputs": [],
   "source": [
    "def Factorial(x):\n",
    "    \"\"\"Factorial of a number\"\"\"\n",
    "    Fact=1\n",
    "    if x<0:\n",
    "        print(\"Factorial do not exist\")\n",
    "    elif x==0:\n",
    "        print(\"Factorial of 0 is 1\")\n",
    "    else:\n",
    "        for i in range(1,x+1):\n",
    "            Fact = Fact*i\n",
    "        print(f\"factorial of {x} is {Fact}\")\n"
   ]
  },
  {
   "cell_type": "code",
   "execution_count": 4,
   "metadata": {},
   "outputs": [
    {
     "name": "stdout",
     "output_type": "stream",
     "text": [
      "factorial of 5 is 120\n"
     ]
    }
   ],
   "source": [
    "Factorial(5)"
   ]
  },
  {
   "cell_type": "markdown",
   "metadata": {},
   "source": [
    "Write a Python Program to Display the multiplication Table?"
   ]
  },
  {
   "cell_type": "code",
   "execution_count": 9,
   "metadata": {},
   "outputs": [],
   "source": [
    "def Multi_table(x):\n",
    "    \"\"\"Multiplication table\"\"\"\n",
    "    for i in range(1,11):\n",
    "        print(f\"{x} x {i} = {x*i}\")"
   ]
  },
  {
   "cell_type": "code",
   "execution_count": 10,
   "metadata": {},
   "outputs": [
    {
     "name": "stdout",
     "output_type": "stream",
     "text": [
      "12 x 1 = 12\n",
      "12 x 2 = 24\n",
      "12 x 3 = 36\n",
      "12 x 4 = 48\n",
      "12 x 5 = 60\n",
      "12 x 6 = 72\n",
      "12 x 7 = 84\n",
      "12 x 8 = 96\n",
      "12 x 9 = 108\n",
      "12 x 10 = 120\n"
     ]
    }
   ],
   "source": [
    "Multi_table(12)"
   ]
  },
  {
   "cell_type": "markdown",
   "metadata": {},
   "source": [
    "Write a Python Program to Print the Fibonacci sequence?"
   ]
  },
  {
   "cell_type": "code",
   "execution_count": 20,
   "metadata": {},
   "outputs": [],
   "source": [
    "def Fibo(x):\n",
    "    \"\"\"Fibonacci sequence\"\"\"\n",
    "    n1,n2=0,1\n",
    "    count=0\n",
    "\n",
    "    if x<=0:\n",
    "        print(\"Place a number grater than 0\")\n",
    "\n",
    "    elif x==1:\n",
    "        print(f\" Fibonacci series upto {x} : {n1}\")\n",
    "    else:\n",
    "        print(f\" Fibonacci series upto {x} :\")\n",
    "        while count < x:\n",
    "            print(n1)\n",
    "            nth=n1+n2\n",
    "            n1=n2\n",
    "            n2=nth\n",
    "            count= count+1"
   ]
  },
  {
   "cell_type": "code",
   "execution_count": 21,
   "metadata": {},
   "outputs": [
    {
     "name": "stdout",
     "output_type": "stream",
     "text": [
      " Fibonacci series upto 6 :\n",
      "0\n",
      "1\n",
      "1\n",
      "2\n",
      "3\n",
      "5\n"
     ]
    }
   ],
   "source": [
    "Fibo(6)"
   ]
  },
  {
   "cell_type": "markdown",
   "metadata": {},
   "source": [
    "Write a Python Program to Check Armstrong Number?"
   ]
  },
  {
   "cell_type": "code",
   "execution_count": 35,
   "metadata": {},
   "outputs": [],
   "source": [
    "# A positive integer is called an Armstrong number of order n.\n",
    "# abcd... = a^n + b^n + c^n + d^n + ...\n",
    "\n",
    "def Armstrong(num):\n",
    "    \"\"\"Checking armstrong number\"\"\"\n",
    "    \n",
    "    lst=[int(i) for i in str(num)]\n",
    "    n = len(lst)\n",
    "    total=sum(map(lambda i :i**n ,lst))\n",
    "\n",
    "    if num==total:\n",
    "        \n",
    "        print(f\" Number : {num} is Armstrong number\")\n",
    "    else:\n",
    "        print(\"Number is not armstrong number\")\n"
   ]
  },
  {
   "cell_type": "code",
   "execution_count": 36,
   "metadata": {},
   "outputs": [
    {
     "name": "stdout",
     "output_type": "stream",
     "text": [
      " Number : 407 is Armstrong number\n",
      "407\n"
     ]
    }
   ],
   "source": [
    "Armstrong(407)"
   ]
  },
  {
   "attachments": {},
   "cell_type": "markdown",
   "metadata": {},
   "source": [
    "Write a Python Program to Find Armstrong Number in an Interval?"
   ]
  },
  {
   "cell_type": "code",
   "execution_count": 44,
   "metadata": {},
   "outputs": [],
   "source": [
    "def Arms(x,y):\n",
    "    \"\"\"Armstrong number between two numbers\"\"\"\n",
    "    arm_n =[]\n",
    "    for i in range(x,y):\n",
    "        lst=[int(j) for j in str(i)]\n",
    "        n = len(lst)\n",
    "        total=sum(map(lambda x :x**n ,lst))\n",
    "\n",
    "        if i==total:\n",
    "            arm_n.append(i)\n",
    "    \n",
    "    print(arm_n)\n",
    "\n",
    "\n"
   ]
  },
  {
   "cell_type": "code",
   "execution_count": 43,
   "metadata": {},
   "outputs": [
    {
     "name": "stdout",
     "output_type": "stream",
     "text": [
      "[407, 1634, 8208, 9474]\n"
     ]
    }
   ],
   "source": [
    "Arms(400,10000)"
   ]
  },
  {
   "cell_type": "markdown",
   "metadata": {},
   "source": [
    "Write a Python Program to Find the Sum of Natural Numbers?"
   ]
  },
  {
   "cell_type": "code",
   "execution_count": 47,
   "metadata": {},
   "outputs": [],
   "source": [
    "# Nuatural numbers - 1,2,3,4,5,6,7-----n\n",
    "def natu_n(n):\n",
    "\n",
    "    \"\"\"Sum of natural numbers\"\"\"\n",
    "    sum = (n*(n+1))/2\n",
    "\n",
    "    print(sum)\n"
   ]
  },
  {
   "cell_type": "code",
   "execution_count": 48,
   "metadata": {},
   "outputs": [
    {
     "name": "stdout",
     "output_type": "stream",
     "text": [
      "55.0\n"
     ]
    }
   ],
   "source": [
    "natu_n(10)"
   ]
  },
  {
   "cell_type": "code",
   "execution_count": null,
   "metadata": {},
   "outputs": [],
   "source": []
  }
 ],
 "metadata": {
  "kernelspec": {
   "display_name": "Python 3",
   "language": "python",
   "name": "python3"
  },
  "language_info": {
   "codemirror_mode": {
    "name": "ipython",
    "version": 3
   },
   "file_extension": ".py",
   "mimetype": "text/x-python",
   "name": "python",
   "nbconvert_exporter": "python",
   "pygments_lexer": "ipython3",
   "version": "3.8.0"
  },
  "orig_nbformat": 4
 },
 "nbformat": 4,
 "nbformat_minor": 2
}
