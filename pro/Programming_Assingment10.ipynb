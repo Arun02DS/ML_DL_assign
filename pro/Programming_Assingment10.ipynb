{
 "cells": [
  {
   "attachments": {},
   "cell_type": "markdown",
   "metadata": {},
   "source": [
    "Write a Python program to find sum of elements in list?"
   ]
  },
  {
   "cell_type": "code",
   "execution_count": 1,
   "metadata": {},
   "outputs": [
    {
     "name": "stdout",
     "output_type": "stream",
     "text": [
      "sum:698\n"
     ]
    }
   ],
   "source": [
    "lst=[2,5,8,6,6,4,666,1]\n",
    "sum=0\n",
    "for i in lst:\n",
    "    sum=sum+i\n",
    "print(f\"sum:{sum}\")\n"
   ]
  },
  {
   "attachments": {},
   "cell_type": "markdown",
   "metadata": {},
   "source": [
    "Write a Python program to  Multiply all numbers in the list?"
   ]
  },
  {
   "cell_type": "code",
   "execution_count": 3,
   "metadata": {},
   "outputs": [
    {
     "name": "stdout",
     "output_type": "stream",
     "text": [
      "product:2240\n"
     ]
    }
   ],
   "source": [
    "lst=[2,4,5,7,8]\n",
    "prod=1\n",
    "for i in lst:\n",
    "    prod =prod*i\n",
    "print(f\"product:{prod}\")"
   ]
  },
  {
   "attachments": {},
   "cell_type": "markdown",
   "metadata": {},
   "source": [
    "Write a Python program to find smallest number in a list?"
   ]
  },
  {
   "cell_type": "code",
   "execution_count": 4,
   "metadata": {},
   "outputs": [
    {
     "name": "stdout",
     "output_type": "stream",
     "text": [
      "2\n"
     ]
    }
   ],
   "source": [
    "lst =[2,4,5,7,66]\n",
    "print(min(lst))"
   ]
  },
  {
   "attachments": {},
   "cell_type": "markdown",
   "metadata": {},
   "source": [
    "Write a Python program to find largest number in a list?"
   ]
  },
  {
   "cell_type": "code",
   "execution_count": 5,
   "metadata": {},
   "outputs": [
    {
     "name": "stdout",
     "output_type": "stream",
     "text": [
      "66\n"
     ]
    }
   ],
   "source": [
    "lst =[2,4,5,7,66]\n",
    "print(max(lst))"
   ]
  },
  {
   "attachments": {},
   "cell_type": "markdown",
   "metadata": {},
   "source": [
    "Write a Python program to find second largest number in a list?"
   ]
  },
  {
   "cell_type": "code",
   "execution_count": 8,
   "metadata": {},
   "outputs": [
    {
     "name": "stdout",
     "output_type": "stream",
     "text": [
      "second largest in list: 14\n"
     ]
    }
   ],
   "source": [
    "lst =[2,14,5,7,66]\n",
    "lst.sort()\n",
    "print(f\"second largest in list: {lst[-2]}\")"
   ]
  },
  {
   "attachments": {},
   "cell_type": "markdown",
   "metadata": {},
   "source": [
    "Write a Python program to find N largest elements from a list?"
   ]
  },
  {
   "cell_type": "code",
   "execution_count": 11,
   "metadata": {},
   "outputs": [
    {
     "name": "stdout",
     "output_type": "stream",
     "text": [
      "List: [22, 5, 66, 8, 22]\n",
      "sorted list: [5, 8, 22, 22, 66]\n",
      "nlargest vales from the list are [22, 22, 66]\n"
     ]
    }
   ],
   "source": [
    "n = int(input(\"Enter the number: \"))\n",
    "lst=[]\n",
    "\n",
    "for i in range(n):\n",
    "    lst.append(int(input()))\n",
    "print(f\"List: {lst}\")\n",
    "\n",
    "lst.sort()\n",
    "print(f\"sorted list: {lst}\")\n",
    "\n",
    "nlargest=int(input(\"How many n largest we want to sort: \"))\n",
    "\n",
    "if n < nlargest:\n",
    "    print(\"Enter valid n value\")\n",
    "else:\n",
    "    print(f\"nlargest vales from the list are {lst[(n-nlargest):]}\")"
   ]
  },
  {
   "attachments": {},
   "cell_type": "markdown",
   "metadata": {},
   "source": [
    "Write a Python program to print even numbers in a list?"
   ]
  },
  {
   "cell_type": "code",
   "execution_count": 12,
   "metadata": {},
   "outputs": [
    {
     "name": "stdout",
     "output_type": "stream",
     "text": [
      "22\n",
      "66\n",
      "8\n",
      "22\n"
     ]
    }
   ],
   "source": [
    "lst=[22, 5, 66, 8, 22]\n",
    "for i in lst:\n",
    "    if i%2==0:\n",
    "        print(i)"
   ]
  },
  {
   "attachments": {},
   "cell_type": "markdown",
   "metadata": {},
   "source": [
    "Write a Python program to print odd numbers in a List?"
   ]
  },
  {
   "cell_type": "code",
   "execution_count": 13,
   "metadata": {},
   "outputs": [
    {
     "name": "stdout",
     "output_type": "stream",
     "text": [
      "5\n"
     ]
    }
   ],
   "source": [
    "lst=[22, 5, 66, 8, 22]\n",
    "for i in lst:\n",
    "    if i%2!=0:\n",
    "        print(i)"
   ]
  },
  {
   "attachments": {},
   "cell_type": "markdown",
   "metadata": {},
   "source": [
    "Write a Python program to Remove empty List from List?"
   ]
  },
  {
   "cell_type": "code",
   "execution_count": 15,
   "metadata": {},
   "outputs": [
    {
     "name": "stdout",
     "output_type": "stream",
     "text": [
      "list: [2, [], 5, 6, 8, [7, 8], 9]\n",
      "new list witout empty list: [2, 5, 6, 8, [7, 8], 9]\n"
     ]
    }
   ],
   "source": [
    "lst = [2,[],5,6,8,[7,8],9]\n",
    "print(f\"list: {lst}\")\n",
    "\n",
    "new_lst=[i for i in lst if i!=[]]\n",
    "\n",
    "print(f\"new list witout empty list: {new_lst}\")"
   ]
  },
  {
   "attachments": {},
   "cell_type": "markdown",
   "metadata": {},
   "source": [
    "Write a Python program to Cloning or Copying a list?"
   ]
  },
  {
   "cell_type": "code",
   "execution_count": 16,
   "metadata": {},
   "outputs": [
    {
     "name": "stdout",
     "output_type": "stream",
     "text": [
      "Cloning By list slicing lst[:]  [2, 3, 4, 55, 6, 7]\n",
      "Cloning By list copying lst.copy()  [2, 3, 4, 55, 6, 7]\n",
      "Cloning By list Comprahention  [2, 3, 4, 55, 6, 7]\n",
      "Cloning By list append  [2, 3, 4, 55, 6, 7]\n"
     ]
    }
   ],
   "source": [
    "lst=[2,3,4,55,6,7]\n",
    "\n",
    "\n",
    "#Method 1\n",
    "lstcopy = lst[:]\n",
    "print(\"Cloning By list slicing lst[:] \",lstcopy)\n",
    "\n",
    "#method2\n",
    "lst2 = lst.copy()\n",
    "print(\"Cloning By list copying lst.copy() \",lst2)\n",
    "\n",
    "\n",
    "#Method3\n",
    "lstcomprah = [i for i in lst]\n",
    "print(\"Cloning By list Comprahention \",lstcomprah)\n",
    "\n",
    "\n",
    "#method4\n",
    "lstappend=[]\n",
    "for i in lst : lstappend.append(i)\n",
    "print(\"Cloning By list append \",lstappend)"
   ]
  },
  {
   "attachments": {},
   "cell_type": "markdown",
   "metadata": {},
   "source": [
    "Write a Python program to Count occurrences of an element in a list?"
   ]
  },
  {
   "cell_type": "code",
   "execution_count": 46,
   "metadata": {},
   "outputs": [
    {
     "name": "stdout",
     "output_type": "stream",
     "text": [
      "count of element 2: 3\n",
      "count of element 3: 3\n",
      "count of element 4: 2\n",
      "count of element 5: 1\n",
      "count of element 6: 1\n",
      "count of element 7: 1\n",
      "count of element 8: 2\n"
     ]
    }
   ],
   "source": [
    "lst1 = [2,3,4,2,4,5,6,7,8,8,3,3,2]\n",
    "new_lst=sorted(set(lst))\n",
    "for i in new_lst:\n",
    "    print(f\"count of element {i}: {lst1.count(i)}\")\n"
   ]
  },
  {
   "cell_type": "code",
   "execution_count": null,
   "metadata": {},
   "outputs": [],
   "source": []
  }
 ],
 "metadata": {
  "kernelspec": {
   "display_name": "Python 3",
   "language": "python",
   "name": "python3"
  },
  "language_info": {
   "codemirror_mode": {
    "name": "ipython",
    "version": 3
   },
   "file_extension": ".py",
   "mimetype": "text/x-python",
   "name": "python",
   "nbconvert_exporter": "python",
   "pygments_lexer": "ipython3",
   "version": "3.8.0"
  },
  "orig_nbformat": 4
 },
 "nbformat": 4,
 "nbformat_minor": 2
}
