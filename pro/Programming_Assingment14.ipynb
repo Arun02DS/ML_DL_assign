{
 "cells": [
  {
   "attachments": {},
   "cell_type": "markdown",
   "metadata": {},
   "source": [
    "Question 1:\n",
    "\n",
    "Define a class with a generator which can iterate the numbers, which are divisible by 7, between a given range 0 and n.\n",
    "\n"
   ]
  },
  {
   "cell_type": "code",
   "execution_count": 15,
   "metadata": {},
   "outputs": [],
   "source": [
    "class Gen:\n",
    "\n",
    "    def __init__(self, n:int):\n",
    "        self.n = n\n",
    "\n",
    "    def get_numbers(self)->list:\n",
    "        \"\"\"Give number divisible by 7 in a range\"\"\"\n",
    "        lst=[str(i) for i in range(0,self.n+1) if i%7==0]\n",
    "        return \",\".join(lst)"
   ]
  },
  {
   "cell_type": "code",
   "execution_count": 16,
   "metadata": {},
   "outputs": [],
   "source": [
    "G =Gen(100)"
   ]
  },
  {
   "cell_type": "code",
   "execution_count": 17,
   "metadata": {},
   "outputs": [
    {
     "data": {
      "text/plain": [
       "'0,7,14,21,28,35,42,49,56,63,70,77,84,91,98'"
      ]
     },
     "execution_count": 17,
     "metadata": {},
     "output_type": "execute_result"
    }
   ],
   "source": [
    "G.get_numbers()"
   ]
  },
  {
   "attachments": {},
   "cell_type": "markdown",
   "metadata": {},
   "source": [
    "Question 2:\n",
    "\n",
    "Write a program to compute the frequency of the words from the input. The output should output after sorting the key alphanumerically. \n",
    "\n",
    "Suppose the following input is supplied to the program:\n",
    "\n",
    "New to Python or choosing between Python 2 and Python 3? Read Python 2 or Python 3.\n",
    "\n",
    "Then, the output should be:\n",
    "\n",
    "2:2\n",
    "\n",
    "3.:1\n",
    "\n",
    "3?:1\n",
    "\n",
    "New:1\n",
    "\n",
    "Python:5\n",
    "\n",
    "Read:1\n",
    "\n",
    "and:1\n",
    "\n",
    "between:1\n",
    "\n",
    "choosing:1\n",
    "\n",
    "or:2\n",
    "\n",
    "to:1"
   ]
  },
  {
   "cell_type": "code",
   "execution_count": 18,
   "metadata": {},
   "outputs": [],
   "source": [
    "def count_string(strng:str):\n",
    "    \"\"\"Count the elements in a string\"\"\"\n",
    "    new_str=sorted(set(strng.split()))\n",
    "    for i in new_str:\n",
    "        print(f\"{i}:{strng.count(i)}\")\n"
   ]
  },
  {
   "cell_type": "code",
   "execution_count": 23,
   "metadata": {},
   "outputs": [
    {
     "name": "stdout",
     "output_type": "stream",
     "text": [
      ".:1\n",
      "2:2\n",
      "3:2\n",
      "?:1\n",
      "New:1\n",
      "Python:5\n",
      "Read:1\n",
      "and:1\n",
      "between:1\n",
      "choosing:1\n",
      "or:2\n",
      "to:1\n"
     ]
    }
   ],
   "source": [
    "count_string(\"New to Python or choosing between Python 2 and Python 3 ? Read Python 2 or Python 3 .\")"
   ]
  },
  {
   "attachments": {},
   "cell_type": "markdown",
   "metadata": {},
   "source": [
    "Question 3:\n",
    "\n",
    "Define a class Person and its two child classes: Male and Female. All classes have a method \"getGender\" which can print \"Male\" for Male class and \"Female\" for Female class."
   ]
  },
  {
   "cell_type": "code",
   "execution_count": 25,
   "metadata": {},
   "outputs": [],
   "source": [
    "class Person(object):\n",
    "    def get_gender(self):\n",
    "        return \"gender\"\n",
    "class Male(Person):\n",
    "    def get_gender(self):\n",
    "        return \"Male\"\n",
    "class Female(Person):\n",
    "    def get_gender(self):\n",
    "        return \"Female\""
   ]
  },
  {
   "cell_type": "code",
   "execution_count": 27,
   "metadata": {},
   "outputs": [],
   "source": [
    "ma =Male()\n",
    "fe =Female()"
   ]
  },
  {
   "cell_type": "code",
   "execution_count": 28,
   "metadata": {},
   "outputs": [
    {
     "data": {
      "text/plain": [
       "'Male'"
      ]
     },
     "execution_count": 28,
     "metadata": {},
     "output_type": "execute_result"
    }
   ],
   "source": [
    "ma.get_gender()"
   ]
  },
  {
   "cell_type": "code",
   "execution_count": 29,
   "metadata": {},
   "outputs": [
    {
     "data": {
      "text/plain": [
       "'Female'"
      ]
     },
     "execution_count": 29,
     "metadata": {},
     "output_type": "execute_result"
    }
   ],
   "source": [
    "fe.get_gender()"
   ]
  },
  {
   "attachments": {},
   "cell_type": "markdown",
   "metadata": {},
   "source": [
    "Question 4:\n",
    "\n",
    "Please write a program to generate all sentences where subject is in [\"I\", \"You\"] and verb is in [\"Play\", \"Love\"] and the object is in [\"Hockey\",\"Football\"]."
   ]
  },
  {
   "cell_type": "code",
   "execution_count": 30,
   "metadata": {},
   "outputs": [],
   "source": [
    "def sentence_form(subject:list,verb:list,obj:list)->str:\n",
    "    \"\"\"form sentence from subject,verb and object\"\"\"\n",
    "    sentence_lst=[(s+\" \"+v+\" \"+o) for s in subject for v in verb for o in obj]\n",
    "    for sent in sentence_lst:\n",
    "        print(sent)\n"
   ]
  },
  {
   "cell_type": "code",
   "execution_count": 31,
   "metadata": {},
   "outputs": [
    {
     "name": "stdout",
     "output_type": "stream",
     "text": [
      "I Play Hockey\n",
      "I Play Football\n",
      "I Love Hockey\n",
      "I Love Football\n",
      "You Play Hockey\n",
      "You Play Football\n",
      "You Love Hockey\n",
      "You Love Football\n"
     ]
    }
   ],
   "source": [
    "sentence_form( [\"I\", \"You\"] , [\"Play\", \"Love\"] ,[\"Hockey\",\"Football\"])"
   ]
  },
  {
   "attachments": {},
   "cell_type": "markdown",
   "metadata": {},
   "source": [
    "Question 5:\n",
    "\n",
    "Please write a program to compress and decompress the string \"hello world!hello world!hello world!hello world!\""
   ]
  },
  {
   "cell_type": "code",
   "execution_count": 54,
   "metadata": {},
   "outputs": [],
   "source": [
    "import gzip\n",
    "class C_D:\n",
    "    \"\"\"Function to compress and decompress strings\"\"\"\n",
    "\n",
    "    def __init__(self,strng:str):\n",
    "        self.strng=strng\n",
    "    \n",
    "    def compress(self):\n",
    "        y = bytes(self.strng, 'utf-8')\n",
    "        s= gzip.compress(y)\n",
    "        return s\n",
    "    \n",
    "    def decompress(self):\n",
    "        t= gzip.decompress(self.compress())\n",
    "        return t"
   ]
  },
  {
   "cell_type": "code",
   "execution_count": 50,
   "metadata": {},
   "outputs": [],
   "source": [
    "comp_dec = C_D( \"hello world!hello world!hello world!hello world!\")"
   ]
  },
  {
   "cell_type": "code",
   "execution_count": 51,
   "metadata": {},
   "outputs": [
    {
     "data": {
      "text/plain": [
       "b'\\x1f\\x8b\\x08\\x00\\x98\\xbbYd\\x02\\xff\\xcbH\\xcd\\xc9\\xc9W(\\xcf/\\xcaIQ\\xcc \\x82\\r\\x00\\xd3\\xe6\\xcf\\xae0\\x00\\x00\\x00'"
      ]
     },
     "execution_count": 51,
     "metadata": {},
     "output_type": "execute_result"
    }
   ],
   "source": [
    "comp_dec.compress()"
   ]
  },
  {
   "cell_type": "code",
   "execution_count": 52,
   "metadata": {},
   "outputs": [
    {
     "data": {
      "text/plain": [
       "b'hello world!hello world!hello world!hello world!'"
      ]
     },
     "execution_count": 52,
     "metadata": {},
     "output_type": "execute_result"
    }
   ],
   "source": [
    "comp_dec.decompress()"
   ]
  },
  {
   "attachments": {},
   "cell_type": "markdown",
   "metadata": {},
   "source": [
    "Question 6:\n",
    "\n",
    "Please write a binary search function which searches an item in a sorted list. The function should return the index of element to be searched in the list."
   ]
  },
  {
   "cell_type": "code",
   "execution_count": 55,
   "metadata": {},
   "outputs": [],
   "source": [
    "def binary_search(lst:list,n:int):\n",
    "    \"\"\"Binary serach for index of a list element\"\"\"\n",
    "    first_index=0\n",
    "    last_index=len(lst)-1\n",
    "    mid_index= (first_index+last_index)//2\n",
    "    mid_element=lst[mid_index]\n",
    "\n",
    "    is_found=True\n",
    "    while is_found:\n",
    "        if first_index==last_index:\n",
    "            if mid_element!= n:\n",
    "                is_found = False\n",
    "                return \"do not appear in list\"\n",
    "        elif mid_element == n:\n",
    "            return f\"{mid_element} occur in index {mid_index}\"\n",
    "        elif mid_element > n:\n",
    "            new_position=mid_index-1\n",
    "            last_index=new_position\n",
    "            mid_index= (first_index+last_index)//2\n",
    "            mid_element=lst[mid_index]\n",
    "            if mid_element == n:\n",
    "                return f\"{mid_element} occur in index {mid_index}\"\n",
    "        elif mid_element < n:\n",
    "            new_position=mid_index+1\n",
    "            first_index=new_position\n",
    "            last_index = len(lst)-1\n",
    "            mid_index= (first_index+last_index)//2\n",
    "            mid_element=lst[mid_index]\n",
    "            if mid_element == n:\n",
    "                return f\"{mid_element} occur in index {mid_index}\""
   ]
  },
  {
   "cell_type": "code",
   "execution_count": 56,
   "metadata": {},
   "outputs": [
    {
     "data": {
      "text/plain": [
       "'60 occur in index 4'"
      ]
     },
     "execution_count": 56,
     "metadata": {},
     "output_type": "execute_result"
    }
   ],
   "source": [
    "binary_search([16 , 18 , 20 , 50 , 60 , 81 , 84 , 89],60)"
   ]
  },
  {
   "cell_type": "code",
   "execution_count": null,
   "metadata": {},
   "outputs": [],
   "source": []
  }
 ],
 "metadata": {
  "kernelspec": {
   "display_name": "Python 3",
   "language": "python",
   "name": "python3"
  },
  "language_info": {
   "codemirror_mode": {
    "name": "ipython",
    "version": 3
   },
   "file_extension": ".py",
   "mimetype": "text/x-python",
   "name": "python",
   "nbconvert_exporter": "python",
   "pygments_lexer": "ipython3",
   "version": "3.8.0"
  },
  "orig_nbformat": 4
 },
 "nbformat": 4,
 "nbformat_minor": 2
}
