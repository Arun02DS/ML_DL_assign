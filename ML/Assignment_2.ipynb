{
 "cells": [
  {
   "cell_type": "markdown",
   "metadata": {},
   "source": [
    "1. What is the concept of human learning? Please give two examples."
   ]
  },
  {
   "attachments": {},
   "cell_type": "markdown",
   "metadata": {},
   "source": [
    "- Learning is when you observe a phenomena and recognie a pattern. \n",
    "- Learning is defined as a relatively permanent change in a person’s knowledge or behavior as a result of experience.\n",
    "\n",
    "1. Learning ho to drive\n",
    "2. Learning mathematics"
   ]
  },
  {
   "attachments": {},
   "cell_type": "markdown",
   "metadata": {},
   "source": [
    "2. What different forms of human learning are there? Are there any machine learning equivalents?"
   ]
  },
  {
   "attachments": {},
   "cell_type": "markdown",
   "metadata": {},
   "source": [
    "\n",
    "- Three Major Types of Learning\n",
    "\n",
    "    - Learning through association - Classical Conditioning.\n",
    "    - Learning through consequences – Operant Conditioning.\n",
    "    - Learning through observation – Modeling/Observational Learning.\n",
    "\n",
    "\n",
    "- Supervised learning is similar to concept learning (Bruner & Austin, 1986), where a person is required to classify new objects into existing categories, by matching the features of the new objects to examples in the categories.\n",
    "\n",
    "- Artificial neural networks follow the neuronal principle of Hebbian learning, where the algorithm centres on inputs with similar properties, just like how neurons that activate simultaneously strengthen the synaptic link between each other (Sanger, 1989).\n",
    "\n",
    "- Reinforcement learning is inspired by the reward system of operant conditioning (Sutton & Barto, 1998). Operant conditioning was established by B. F. Skinner (1938), after Edward Thorndike (1927) observed how cats learn to escape a puzzle box more quickly after a repeated number of trials. Thorndike noted that behaviours that helped the cats to escape were repeated more frequently over time compared to behaviours that did not, and he termed this the law of effect."
   ]
  },
  {
   "attachments": {},
   "cell_type": "markdown",
   "metadata": {},
   "source": [
    "3. What is machine learning, and how does it work? What are the key responsibilities of machine learning?"
   ]
  },
  {
   "attachments": {},
   "cell_type": "markdown",
   "metadata": {},
   "source": [
    "- Machine learning is the ability to adapt to new data independently and through iterations.  Applications learn from previous computations and transactions and use “pattern recognition” to produce reliable and informed results.\n",
    "\n",
    "Train Data -> Algorithm -> Machine learning model ->Test Data -> prediction -> hyperparameter tuning\n",
    "\n",
    "The Machine Learning process starts with inputting training data into the selected algorithm. Training data being known or unknown data to develop the final Machine Learning algorithm. The type of training data input does impact the algorithm, and that concept will be covered further momentarily. \n",
    "\n",
    "New input data is fed into the machine learning algorithm to test whether the algorithm works correctly. The prediction and results are then checked against each other.\n",
    "\n"
   ]
  },
  {
   "attachments": {},
   "cell_type": "markdown",
   "metadata": {},
   "source": [
    "4. Define the terms \"penalty\" and \"reward\" in the context of reinforcement learning."
   ]
  },
  {
   "attachments": {},
   "cell_type": "markdown",
   "metadata": {},
   "source": [
    "Reinforcement learning is all about gamifying the learning process. This type of machine learning uses a reward-penalty method to teach an AI system. If it makes the right move, it gets rewarded. If it makes a mistake, it receives a penalty."
   ]
  },
  {
   "attachments": {},
   "cell_type": "markdown",
   "metadata": {},
   "source": [
    "5. Explain the term \"learning as a search\"?"
   ]
  },
  {
   "attachments": {},
   "cell_type": "markdown",
   "metadata": {},
   "source": [
    "\n",
    "- Learning can be viewed as a search through the space of all sentences in a  concept description language for a sentence that best describes the data. Alternatively, it can be viewed as a search through all hypotheses in a hypothesis space. In either case, a generality relation usually determines the structure of the search space."
   ]
  },
  {
   "attachments": {},
   "cell_type": "markdown",
   "metadata": {},
   "source": [
    "6. What are the various goals of machine learning? What is the relationship between these and human learning?"
   ]
  },
  {
   "attachments": {},
   "cell_type": "markdown",
   "metadata": {},
   "source": [
    "The goal of ML, in simples words, is to understand the nature of (human and other forms of) learning, and to build learning capability in computers.\n",
    "\n",
    "(1) To solve wider range of problems than before - perform generalization. \n",
    "(2) To solve the same problem more effectively - give better quality solutions. \n",
    "(3) To solve the same problem more efficiently - faster.\n",
    "\n",
    "Humans acquire knowledge through experience either directly or shared by others. Machines acquire knowledge through experience shared in the form of past data."
   ]
  },
  {
   "attachments": {},
   "cell_type": "markdown",
   "metadata": {},
   "source": [
    "7. Illustrate the various elements of machine learning using a real-life illustration."
   ]
  },
  {
   "attachments": {},
   "cell_type": "markdown",
   "metadata": {},
   "source": [
    "- Speech recognition\n",
    "\n",
    "Machine learning can translate speech into text. Certain software applications can convert live voice and recorded speech into a text file. The speech can be segmented by intensities on time-frequency bands as well.\n",
    " \n",
    "\n",
    "Real-world examples of speech recognition:\n",
    "\n",
    "- Voice search\n",
    "- Voice dialling\n",
    "- Appliance control\n",
    "    - Some of the most common uses of speech recognition software are devices like Google Home or Amazon Alexa."
   ]
  },
  {
   "attachments": {},
   "cell_type": "markdown",
   "metadata": {},
   "source": [
    "8. Provide an example of the abstraction method."
   ]
  },
  {
   "attachments": {},
   "cell_type": "markdown",
   "metadata": {},
   "source": [
    "Abstraction is used to hide the internal functionality of the function from the users. The users only interact with the basic implementation of the function, but inner working is hidden. User is familiar with that \"what function does\" but they don't know \"how it does.\"\n",
    "\n",
    "By defining an abstract base class, you can define a common Application Program Interface(API) for a set of subclasses. This capability is especially useful in situations where a third-party is going to provide implementations, such as with plugins, but can also help you when working in a large team or with a large code-base where keeping all classes in your mind is difficult or not possible. \n",
    "\n"
   ]
  },
  {
   "cell_type": "code",
   "execution_count": 1,
   "metadata": {},
   "outputs": [],
   "source": [
    "from abc import ABC, abstractclassmethod\n",
    "\n",
    "class Mechanical(ABC):\n",
    "\n",
    "    @abstractclassmethod\n",
    "    def subject(self):\n",
    "        pass\n",
    "\n",
    "class SOM(Mechanical):\n",
    "    def subject(self):\n",
    "        print(\" Mechanics is involved\")\n",
    "\n",
    "class Thermodynamics(Mechanical):\n",
    "    def subject(self):\n",
    "        print(\" Energy and heat related concepts\")\n",
    "\n",
    "class Fluid_Mechanics(Mechanical):\n",
    "    def subject(self):\n",
    "        print(\" Particle and flow analysis of fluid\")\n",
    "\n",
    "\n"
   ]
  },
  {
   "cell_type": "code",
   "execution_count": 2,
   "metadata": {},
   "outputs": [
    {
     "name": "stdout",
     "output_type": "stream",
     "text": [
      " Mechanics is involved\n"
     ]
    }
   ],
   "source": [
    "A = SOM()\n",
    "A.subject()"
   ]
  },
  {
   "cell_type": "code",
   "execution_count": null,
   "metadata": {},
   "outputs": [],
   "source": []
  }
 ],
 "metadata": {
  "kernelspec": {
   "display_name": "Python 3",
   "language": "python",
   "name": "python3"
  },
  "language_info": {
   "codemirror_mode": {
    "name": "ipython",
    "version": 3
   },
   "file_extension": ".py",
   "mimetype": "text/x-python",
   "name": "python",
   "nbconvert_exporter": "python",
   "pygments_lexer": "ipython3",
   "version": "3.8.0"
  },
  "orig_nbformat": 4
 },
 "nbformat": 4,
 "nbformat_minor": 2
}
