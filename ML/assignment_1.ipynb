{
 "cells": [
  {
   "cell_type": "markdown",
   "metadata": {},
   "source": [
    "1. What does one mean by the term \"machine learning\"?"
   ]
  },
  {
   "attachments": {},
   "cell_type": "markdown",
   "metadata": {},
   "source": [
    "- Machine learning is a branch of data science which is a brach of artificial intelligence.It is a growing technology whch enables computers to learn automatically fro  past data. It uses various algorithms for building mathematical models and making predictions using historical data or information."
   ]
  },
  {
   "attachments": {},
   "cell_type": "markdown",
   "metadata": {},
   "source": [
    "2.Can you think of 4 distinct types of issues where it shines?"
   ]
  },
  {
   "attachments": {},
   "cell_type": "markdown",
   "metadata": {},
   "source": [
    "- Machine learning uses wide range of techniques such as Supervised, Unsupervised and Reinforcement learning.\n",
    "It can be used to solve following problems\n",
    "1. credit card fraud\n",
    "2. customer journey optimization\n",
    "3. House hold price prediction\n",
    "4. recommendation systems"
   ]
  },
  {
   "attachments": {},
   "cell_type": "markdown",
   "metadata": {},
   "source": [
    "3.What is a labeled training set, and how does it work?"
   ]
  },
  {
   "attachments": {},
   "cell_type": "markdown",
   "metadata": {},
   "source": [
    "- Labeled data is used in a machine learning method called supervised learning. It is a dataset , we already konw the target column. Target column is the column which is needs to be predicted after model creation using testing dataset.\n"
   ]
  },
  {
   "attachments": {},
   "cell_type": "markdown",
   "metadata": {},
   "source": [
    "4.What are the two most important tasks that are supervised?"
   ]
  },
  {
   "attachments": {},
   "cell_type": "markdown",
   "metadata": {},
   "source": [
    "The two important tasks:\n",
    "1. Classification\n",
    "2. Regression\n",
    "\n",
    "- Classification- In this problem statement, output variable is categorial which is 2 or more classes. Example, yes or no, True and false, flowers name, gender etc.\n",
    "\n",
    "- Regression - In this problem statement, output variable is numerical value. It is a dependent variable whose value's change associated with a change in the other variable."
   ]
  },
  {
   "attachments": {},
   "cell_type": "markdown",
   "metadata": {},
   "source": [
    "5.Can you think of four examples of unsupervised tasks?"
   ]
  },
  {
   "attachments": {},
   "cell_type": "markdown",
   "metadata": {},
   "source": [
    "- In unsupervised learning the machine uses unlabeled data and learn on itself without any supervision.It tries to find patterns in te unlabeled data. It can be grouped in to further:\n",
    "\n",
    "1. clustering\n",
    "2. association\n",
    "\n",
    "examples:\n",
    "1. Market based analysis- what all things a coustomer buys together like if tooth brush , tooth paste and hair oil are purchaed together, then probability of purchaching hair oil will be higher for a coustomer who purchased tooth paste and tooth brush.\n",
    "\n",
    "2. Identifying accident prone area - based on intensity of accidents , accident prone area are identified.\n",
    "\n",
    "3. Delivery store optimization- keeping tap on supply and demand of a product , we can predict the beavoiur of product consumntion basis month and season.\n",
    "\n",
    "4. Semantic clustering - Semantically similar words share a similar context. People post their queries on websites in their own ways. Semantic clustering groups all these responses with the same meaning in a cluster to ensure that the customer finds the information they want quickly and easily."
   ]
  },
  {
   "attachments": {},
   "cell_type": "markdown",
   "metadata": {},
   "source": [
    "6.State the machine learning model that would be best to make a robot walk through various unfamiliar terrains?"
   ]
  },
  {
   "attachments": {},
   "cell_type": "markdown",
   "metadata": {},
   "source": [
    "The best machine learning model to make a robot walk through various unfamiliar terrains is Reinforced Learning, using RL robot can learn from te responses of the terrian to optimize itself."
   ]
  },
  {
   "attachments": {},
   "cell_type": "markdown",
   "metadata": {},
   "source": [
    "7.Which algorithm will you use to divide your customers into different groups?"
   ]
  },
  {
   "attachments": {},
   "cell_type": "markdown",
   "metadata": {},
   "source": [
    "Clustering algorithms will be used to segment the coustomers into different groups, is data is not labelled. We can use supervised learning alorithms also ensemble techniques like decision tree if data is labelled."
   ]
  },
  {
   "attachments": {},
   "cell_type": "markdown",
   "metadata": {},
   "source": [
    "8.Will you consider the problem of spam detection to be a supervised or unsupervised learning problem?"
   ]
  },
  {
   "attachments": {},
   "cell_type": "markdown",
   "metadata": {},
   "source": [
    "As, data is already labelled as spam and no spam, it will be put under supervised learning."
   ]
  },
  {
   "attachments": {},
   "cell_type": "markdown",
   "metadata": {},
   "source": [
    "9.What is the concept of an online learning system?"
   ]
  },
  {
   "attachments": {},
   "cell_type": "markdown",
   "metadata": {},
   "source": [
    "online machine learning is a method of machine learning in which data becomes available in a sequential order and is used to update the best predictor for future data at each step,as opposed to batch learning techniques which generate the best predictor by learning on the entire training data set at once."
   ]
  },
  {
   "attachments": {},
   "cell_type": "markdown",
   "metadata": {},
   "source": [
    "10.What is out-of-core learning, and how does it differ from core learning?"
   ]
  },
  {
   "attachments": {},
   "cell_type": "markdown",
   "metadata": {},
   "source": [
    "Out-of-core learning refers to the machine learning algorithms working with data that cannot fit into a single machine's memory but can easily fit into some data storage, such as a local hard disk or web repository.\n",
    "\n",
    "\n",
    "Core Machine Learning Framework enables developers to integrate their machine learning models into iOS applications. Both, CPU and GPU act as the underlying technologies powering Core ML. Notably, the machine models run on respective devices allowing local analysis of data."
   ]
  },
  {
   "attachments": {},
   "cell_type": "markdown",
   "metadata": {},
   "source": [
    "11.What kind of learning algorithm makes predictions using a similarity measure?"
   ]
  },
  {
   "attachments": {},
   "cell_type": "markdown",
   "metadata": {},
   "source": [
    "- The machine learning system which learn the training examples by heart and then generalize to new instance based on some similarity measure. \n",
    "It is also known as memory-based learning or lazy-learning (because they delay processing until a new instance must be classified). The time complexity of this algorithm depends upon the size of training data. Each time whenever a new query is encountered, its previously stores data is examined. And assign to a target function value for the new instance.  \n",
    "\n",
    "Advantages:\n",
    "\n",
    "Instead of estimating for the entire instance set, local approximations can be made to the target function.\n",
    "\n",
    "This algorithm can adapt to new data easily, one which is collected as we go .\n",
    "\n",
    "\n",
    "Disadvantages:\n",
    "\n",
    "Classification costs are high\n",
    "\n",
    "Large amount of memory required to store the data, and each query involves starting the identification of a local model from scratch.\n",
    "\n",
    "Some of the instance-based learning algorithms are :\n",
    "\n",
    "K Nearest Neighbor (KNN)\n",
    "Self-Organizing Map (SOM)\n",
    "Learning Vector Quantization (LVQ)\n",
    "Locally Weighted Learning (LWL)\n",
    "Case-Based Reasoning \n"
   ]
  },
  {
   "attachments": {},
   "cell_type": "markdown",
   "metadata": {},
   "source": [
    "12.What's the difference between a model parameter and a hyperparameter in a learning algorithm?"
   ]
  },
  {
   "attachments": {},
   "cell_type": "markdown",
   "metadata": {},
   "source": [
    "- Model parameter:\n",
    "\n",
    "1. These are the configuration model which are internal to the model.\n",
    "2. These parameters are essential for making predictions.\n",
    "3. These are specified or estimated while training the model.\n",
    "4. It is internal to te model.\n",
    "5. These are learned and set by the model by itself.\n",
    "6. These are dependent on the dataset which is used for training.\n",
    "7. The values of model parameters can be estimated by the optimiztion algorithms like Gradient Descent.\n",
    "8. Te final parameters estimated after training decide te model performance on unseen data.\n",
    "9. Example: weights in ANN, support vector in SVM, Coefficients in Linear regression and Logibtic regression.\n",
    "\n",
    "- Hyperparameters\n",
    "\n",
    "1. Hyperparameters are the explicitly specified parameters that control the training process.\n",
    "2. Hyperparameters are essential for optimizing the model.\n",
    "3. These are set before the beginning of the training of the model.\n",
    "4. These are external to the model.\n",
    "5. These are set manually by a machine learning engineer/practitioner.\n",
    "6. These are independent of the dataset.\n",
    "7. The values of hyperparameters can be estimated by hyperparameter tuning.\n",
    "8. The selected or fine-tuned hyperparameters decide the quality of the model.\n",
    "9. Examples: learning rate for training a neural network, K in KNN algorithm, Ma depth in Decision tree\n",
    "\n"
   ]
  },
  {
   "attachments": {},
   "cell_type": "markdown",
   "metadata": {},
   "source": [
    "13.What are the criteria that model-based learning algorithms look for? What is the most popular method they use to achieve success? What method do they use to make predictions?"
   ]
  },
  {
   "attachments": {},
   "cell_type": "markdown",
   "metadata": {},
   "source": [
    "Model based learning algorithm search for the optimal value of parameters in a model that will give the best results for the new instances. We often use a cost function or similar to determine what the parameter value has to be in order to minimize the function. The model makes prediction by using the value of the new instance and the parameters in its function."
   ]
  },
  {
   "attachments": {},
   "cell_type": "markdown",
   "metadata": {},
   "source": [
    "14.Can you name four of the most important Machine Learning challenges?"
   ]
  },
  {
   "attachments": {},
   "cell_type": "markdown",
   "metadata": {},
   "source": [
    "- Underfitting of data\n",
    "- Overfitting of data\n",
    "- lack of data to get a good model\n",
    "- Null or no values for a feature, which makes that feature of no use"
   ]
  },
  {
   "attachments": {},
   "cell_type": "markdown",
   "metadata": {},
   "source": [
    "15.What happens if the model performs well on the training data but fails to generalize the results to new situations? Can you think of three different options?"
   ]
  },
  {
   "attachments": {},
   "cell_type": "markdown",
   "metadata": {},
   "source": [
    "If a model perform good on training data but give poor peformance for ne instances, that means model is overfitted.\n",
    "\n",
    "- We can get more data.\n",
    "- Check for outliers or noise in the data.\n",
    "- Make a simple model.\n"
   ]
  },
  {
   "attachments": {},
   "cell_type": "markdown",
   "metadata": {},
   "source": [
    "16.What exactly is a test set, and why would you need one?"
   ]
  },
  {
   "attachments": {},
   "cell_type": "markdown",
   "metadata": {},
   "source": [
    "Test set a part of dataset which the model did not seen yet. It is used to check whether the model is a good one or a bad one."
   ]
  },
  {
   "attachments": {},
   "cell_type": "markdown",
   "metadata": {},
   "source": [
    "17.What is a validation set's purpose?"
   ]
  },
  {
   "attachments": {},
   "cell_type": "markdown",
   "metadata": {},
   "source": [
    "It is used to get comparison of different models."
   ]
  },
  {
   "attachments": {},
   "cell_type": "markdown",
   "metadata": {},
   "source": [
    "18.What precisely is the train-dev kit, when will you need it, how do you put it to use?"
   ]
  },
  {
   "attachments": {},
   "cell_type": "markdown",
   "metadata": {},
   "source": [
    "It is set where whole dataset is splitted into, train, dev and test set. The goal of dev-set is to rank the models in term of their accuracy and helps us decide which model to proceed further with. Using Dev set we rank all our models in terms of their accuracy and pick the best performing model. i.e. dev set ranks models similar to a search engine like google rank pages and then pick the top model and hence act as a filter to remove bad models."
   ]
  },
  {
   "attachments": {},
   "cell_type": "markdown",
   "metadata": {},
   "source": [
    "19.What could go wrong if you use the test set to tune hyperparameters?"
   ]
  },
  {
   "attachments": {},
   "cell_type": "markdown",
   "metadata": {},
   "source": [
    "If you tune hyperparameters using the test sets, then it may not perform well on the out-of-sample data because the model is tuned just for that specific set."
   ]
  }
 ],
 "metadata": {
  "kernelspec": {
   "display_name": "Python 3",
   "language": "python",
   "name": "python3"
  },
  "language_info": {
   "name": "python",
   "version": "3.8.0"
  },
  "orig_nbformat": 4
 },
 "nbformat": 4,
 "nbformat_minor": 2
}
