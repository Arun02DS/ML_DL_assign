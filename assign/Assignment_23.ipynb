{
 "cells": [
  {
   "cell_type": "markdown",
   "metadata": {},
   "source": [
    "1. What is the result of the code, and why?\n",
    "\n",
    ">>> def func(a, b=6, c=8):\n",
    "\n",
    "print(a, b, c)\n",
    "\n",
    ">>> func(1, 2)"
   ]
  },
  {
   "cell_type": "code",
   "execution_count": 1,
   "metadata": {},
   "outputs": [],
   "source": [
    "def func(a, b=6, c=8):\n",
    "\n",
    "    print(a, b, c)\n",
    "\n"
   ]
  },
  {
   "cell_type": "code",
   "execution_count": 2,
   "metadata": {},
   "outputs": [
    {
     "name": "stdout",
     "output_type": "stream",
     "text": [
      "1 2 8\n"
     ]
    }
   ],
   "source": [
    "func(1, 2)"
   ]
  },
  {
   "cell_type": "markdown",
   "metadata": {},
   "source": [
    "The function func is defined with three parameters: a, b, and c.\n",
    "\n",
    "The default values for b and c are set to 6 and 8, respectively.\n",
    "\n",
    "When the function is called with func(1, 2), the value 1 is assigned to a, and 2 is assigned to b. Since no value is provided for c, it takes its default value of 8.\n",
    "\n",
    "Inside the function, the print statement outputs the values of a, b, and c, resulting in 1 2 8.\n",
    "\n",
    "----"
   ]
  },
  {
   "cell_type": "markdown",
   "metadata": {},
   "source": [
    "2. What is the result of this code, and why?\n",
    "\n",
    ">>> def func(a, b, c=5):\n",
    "\n",
    "print(a, b, c)\n",
    "\n",
    ">>> func(1, c=3, b=2)"
   ]
  },
  {
   "cell_type": "code",
   "execution_count": 3,
   "metadata": {},
   "outputs": [],
   "source": [
    "def func(a, b, c=5):\n",
    "\n",
    "    print(a, b, c)"
   ]
  },
  {
   "cell_type": "code",
   "execution_count": 4,
   "metadata": {},
   "outputs": [
    {
     "name": "stdout",
     "output_type": "stream",
     "text": [
      "1 2 3\n"
     ]
    }
   ],
   "source": [
    "func(1, c=3, b=2)"
   ]
  },
  {
   "cell_type": "markdown",
   "metadata": {},
   "source": [
    "for c and b value are changed, for a it is 1.\n",
    "\n",
    "-----"
   ]
  },
  {
   "cell_type": "markdown",
   "metadata": {},
   "source": [
    "3. How about this code: what is its result, and why?\n",
    "\n",
    ">>> def func(a, *pargs):\n",
    "\n",
    "print(a, pargs)\n",
    "\n",
    ">>> func(1, 2, 3)"
   ]
  },
  {
   "cell_type": "code",
   "execution_count": 5,
   "metadata": {},
   "outputs": [],
   "source": [
    "def func(a, *pargs):\n",
    "\n",
    "    print(a, pargs)\n",
    "\n"
   ]
  },
  {
   "cell_type": "code",
   "execution_count": 6,
   "metadata": {},
   "outputs": [
    {
     "name": "stdout",
     "output_type": "stream",
     "text": [
      "1 (2, 3)\n"
     ]
    }
   ],
   "source": [
    "func(1, 2, 3)"
   ]
  },
  {
   "cell_type": "markdown",
   "metadata": {},
   "source": [
    "\n",
    "- The function `func` is defined with two parameters: `a` and `*pargs`.\n",
    "- The `*pargs` syntax in the function definition allows the function to accept a variable number of positional arguments after the first mandatory argument `a`.\n",
    "- When the function is called with `func(1, 2, 3)`, `1` is assigned to `a`, and the remaining positional arguments `2` and `3` are collected into a tuple and assigned to `pargs`.\n",
    "- Inside the function, the `print` statement outputs the values of `a` and `pargs`, resulting in `1 (2, 3)`. The `pargs` tuple contains the additional positional arguments passed to the function beyond the first one (`2` and `3` in this case).\n",
    "\n",
    "The `*pargs` syntax is known as \"arbitrary positional arguments\" or \"variable-length positional arguments.\" It allows the function to handle a varying number of positional arguments, making the function more flexible and capable of handling different input scenarios.\n",
    "\n",
    "----"
   ]
  },
  {
   "cell_type": "markdown",
   "metadata": {},
   "source": [
    "4. What does this code print, and why?\n",
    "\n",
    ">>> def func(a, **kargs):\n",
    "\n",
    "print(a, kargs)\n",
    "\n",
    ">>> func(a=1, c=3, b=2)"
   ]
  },
  {
   "cell_type": "code",
   "execution_count": 7,
   "metadata": {},
   "outputs": [],
   "source": [
    "def func(a, **kargs):\n",
    "\n",
    "    print(a, kargs)\n",
    "\n"
   ]
  },
  {
   "cell_type": "code",
   "execution_count": 8,
   "metadata": {},
   "outputs": [
    {
     "name": "stdout",
     "output_type": "stream",
     "text": [
      "1 {'c': 3, 'b': 2}\n"
     ]
    }
   ],
   "source": [
    "func(a=1, c=3, b=2)"
   ]
  },
  {
   "cell_type": "markdown",
   "metadata": {},
   "source": [
    "\n",
    "\n",
    "- The function `func` is defined with two parameters: `a` and `**kargs`.\n",
    "- The `**kargs` syntax in the function definition allows the function to accept a variable number of keyword arguments (key-value pairs) after the first mandatory argument `a`.\n",
    "- When the function is called with `func(a=1, c=3, b=2)`, the value `1` is assigned to `a`, and the additional keyword arguments `c=3` and `b=2` are collected into a dictionary and assigned to `kargs`.\n",
    "- Inside the function, the `print` statement outputs the values of `a` and `kargs`, resulting in `1 {'c': 3, 'b': 2}`. The `kargs` dictionary contains the keyword arguments passed to the function beyond the first one.\n",
    "\n",
    "The `**kargs` syntax is known as \"arbitrary keyword arguments\" or \"variable-length keyword arguments.\" It allows the function to handle a varying number of keyword arguments, making the function more flexible and capable of handling different input scenarios. The keyword arguments can be accessed as key-value pairs within the function, enabling the use of named arguments when calling the function.\n",
    "\n",
    "---"
   ]
  },
  {
   "cell_type": "markdown",
   "metadata": {},
   "source": [
    "5. What gets printed by this, and explain?\n",
    "\n",
    ">>> def func(a, b, c=8, d=5): print(a, b, c, d)\n",
    "\n",
    ">>> func(1, *(5, 6))"
   ]
  },
  {
   "cell_type": "code",
   "execution_count": 9,
   "metadata": {},
   "outputs": [],
   "source": [
    "def func(a, b, c=8, d=5): print(a, b, c, d)\n",
    "\n"
   ]
  },
  {
   "cell_type": "code",
   "execution_count": 10,
   "metadata": {},
   "outputs": [
    {
     "name": "stdout",
     "output_type": "stream",
     "text": [
      "1 5 6 5\n"
     ]
    }
   ],
   "source": [
    "func(1, *(5, 6))"
   ]
  },
  {
   "cell_type": "markdown",
   "metadata": {},
   "source": [
    "\n",
    "- The function `func` is defined with four parameters: `a`, `b`, `c`, and `d`.\n",
    "- The parameters `c` and `d` have default values of `8` and `5`, respectively.\n",
    "- When the function is called with `func(1, *(5, 6))`, the value `1` is assigned to the first parameter `a`.\n",
    "- The `*` operator is used before the tuple `(5, 6)`, which is known as \"unpacking.\" Unpacking allows the elements of the tuple to be passed as separate positional arguments to the function. In this case, `5` is assigned to `b`, and `6` is assigned to `c`.\n",
    "- Since the `d` parameter is not provided when calling the function, it takes its default value of `5`.\n",
    "- Inside the function, the `print` statement outputs the values of `a`, `b`, `c`, and `d`, resulting in `1 5 6 5`.\n",
    "\n",
    "In summary, the unpacking of the tuple `(5, 6)` allows the second and third parameters of the function (`b` and `c`) to be assigned values from the tuple, while the fourth parameter `d` takes its default value.\n",
    "\n",
    "----"
   ]
  },
  {
   "cell_type": "markdown",
   "metadata": {},
   "source": [
    "6. what is the result of this, and explain?\n",
    "\n",
    ">>> def func(a, b, c): a = 2; b[0] = 'x'; c['a'] = 'y'\n",
    "\n",
    ">>> l=1; m=[1]; n={'a':0}\n",
    "\n",
    ">>> func(l, m, n)\n",
    "\n",
    ">>> l, m, n"
   ]
  },
  {
   "cell_type": "code",
   "execution_count": 11,
   "metadata": {},
   "outputs": [],
   "source": [
    "def func(a, b, c): a = 2; b[0] = 'x'; c['a'] = 'y'"
   ]
  },
  {
   "cell_type": "code",
   "execution_count": 12,
   "metadata": {},
   "outputs": [],
   "source": [
    "l=1; m=[1]; n={'a':0}"
   ]
  },
  {
   "cell_type": "code",
   "execution_count": 13,
   "metadata": {},
   "outputs": [],
   "source": [
    "func(l, m, n)"
   ]
  },
  {
   "cell_type": "code",
   "execution_count": 14,
   "metadata": {},
   "outputs": [
    {
     "data": {
      "text/plain": [
       "(1, ['x'], {'a': 'y'})"
      ]
     },
     "execution_count": 14,
     "metadata": {},
     "output_type": "execute_result"
    }
   ],
   "source": [
    "l, m, n"
   ]
  },
  {
   "cell_type": "markdown",
   "metadata": {},
   "source": [
    "\n",
    "\n",
    "- Three variables are defined outside the function: `l`, `m`, and `n`.\n",
    "- The function `func` takes three parameters `a`, `b`, and `c`.\n",
    "- Inside the function `func`, the following actions are performed:\n",
    "  - `a = 2;` sets the local variable `a` to `2`. However, since `a` is a local variable and not a mutable data structure, it does not affect the variable `l` outside the function.\n",
    "  - `b[0] = 'x';` modifies the first element of the list `m` (which is `[1]`) by replacing `1` with `'x'`. This change affects the list `m` outside the function since lists are mutable.\n",
    "  - `c['a'] = 'y'` modifies the value associated with the key `'a'` in the dictionary `n` by setting it to `'y'`. This change affects the dictionary `n` outside the function since dictionaries are mutable.\n",
    "\n",
    "After calling the function with `func(l, m, n)`, the values of `l`, `m`, and `n` have been modified according to the actions performed inside the function:\n",
    "\n",
    "- `l` remains unchanged, as it is an immutable integer and the assignment inside the function does not affect the variable `l` defined outside.\n",
    "- `m` has been modified since it is a mutable list, and the first element was changed from `1` to `'x'`.\n",
    "- `n` has been modified since it is a mutable dictionary, and the value associated with the key `'a'` was changed from `0` to `'y'`.\n",
    "\n",
    "Therefore, the final values of `l`, `m`, and `n` after calling the function are `(1, ['x'], {'a': 'y'})`.\n",
    "\n",
    "----"
   ]
  },
  {
   "cell_type": "markdown",
   "metadata": {},
   "source": []
  }
 ],
 "metadata": {
  "kernelspec": {
   "display_name": "Python 3",
   "language": "python",
   "name": "python3"
  },
  "language_info": {
   "codemirror_mode": {
    "name": "ipython",
    "version": 3
   },
   "file_extension": ".py",
   "mimetype": "text/x-python",
   "name": "python",
   "nbconvert_exporter": "python",
   "pygments_lexer": "ipython3",
   "version": "3.8.0"
  },
  "orig_nbformat": 4
 },
 "nbformat": 4,
 "nbformat_minor": 2
}
