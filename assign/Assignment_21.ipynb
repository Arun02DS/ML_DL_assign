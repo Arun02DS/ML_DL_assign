{
 "cells": [
  {
   "cell_type": "markdown",
   "metadata": {},
   "source": [
    "1. Add the current date to the text file today.txt as a string."
   ]
  },
  {
   "cell_type": "code",
   "execution_count": 1,
   "metadata": {},
   "outputs": [],
   "source": [
    "from datetime import datetime\n",
    "\n",
    "current_date = datetime.now().strftime('%d-%m-%Y')\n",
    "\n",
    "with open('today_date.txt','a') as file:\n",
    "    file.write(current_date + '\\n')"
   ]
  },
  {
   "cell_type": "markdown",
   "metadata": {},
   "source": [
    "2. Read the text file today.txt into the string today_string"
   ]
  },
  {
   "cell_type": "code",
   "execution_count": 4,
   "metadata": {},
   "outputs": [
    {
     "name": "stdout",
     "output_type": "stream",
     "text": [
      "26-07-2023\n",
      "\n"
     ]
    }
   ],
   "source": [
    "with open('today_date.txt','r') as file:\n",
    "    string_today = file.read()\n",
    "\n",
    "print(string_today)"
   ]
  },
  {
   "cell_type": "markdown",
   "metadata": {},
   "source": [
    "3. Parse the date from today_string."
   ]
  },
  {
   "cell_type": "code",
   "execution_count": 7,
   "metadata": {},
   "outputs": [
    {
     "name": "stdout",
     "output_type": "stream",
     "text": [
      "[datetime.datetime(2023, 7, 26, 0, 0)]\n"
     ]
    }
   ],
   "source": [
    "date_string = string_today.strip().split('\\n')\n",
    "\n",
    "parsed_dates=[]\n",
    "\n",
    "for p_d in date_string:\n",
    "    parsed_date=datetime.strptime(p_d, '%d-%m-%Y')\n",
    "    parsed_dates.append(parsed_date)\n",
    "\n",
    "print(parsed_dates)"
   ]
  },
  {
   "cell_type": "markdown",
   "metadata": {},
   "source": [
    "4. List the files in your current directory"
   ]
  },
  {
   "cell_type": "code",
   "execution_count": 9,
   "metadata": {},
   "outputs": [
    {
     "name": "stdout",
     "output_type": "stream",
     "text": [
      "Assignment_1.docx\n",
      "Assignment_1.ipynb\n",
      "Assignment_10.docx\n",
      "Assignment_10.ipynb\n",
      "Assignment_11.docx\n",
      "Assignment_11.ipynb\n",
      "Assignment_12.docx\n",
      "Assignment_12.ipynb\n",
      "Assignment_13.docx\n",
      "Assignment_13.ipynb\n",
      "Assignment_14.docx\n",
      "Assignment_14.ipynb\n",
      "Assignment_15.docx\n",
      "Assignment_15.ipynb\n",
      "Assignment_16.docx\n",
      "Assignment_16.ipynb\n",
      "Assignment_17.docx\n",
      "Assignment_17.ipynb\n",
      "Assignment_18.docx\n",
      "Assignment_18.ipynb\n",
      "Assignment_19.docx\n",
      "Assignment_19.ipynb\n",
      "Assignment_2.docx\n",
      "Assignment_2.ipynb\n",
      "Assignment_20.docx\n",
      "Assignment_20.ipynb\n",
      "Assignment_21.docx\n",
      "Assignment_21.ipynb\n",
      "Assignment_22.docx\n",
      "Assignment_22.ipynb\n",
      "Assignment_23.docx\n",
      "Assignment_23.ipynb\n",
      "Assignment_24.docx\n",
      "Assignment_24.ipynb\n",
      "Assignment_25.docx\n",
      "Assignment_25.ipynb\n",
      "Assignment_3.docx\n",
      "Assignment_3.ipynb\n",
      "Assignment_4.docx\n",
      "Assignment_4.ipynb\n",
      "Assignment_5.docx\n",
      "Assignment_5.ipynb\n",
      "Assignment_6.docx\n",
      "Assignment_6.ipynb\n",
      "Assignment_7.docx\n",
      "Assignment_7.ipynb\n",
      "Assignment_8.docx\n",
      "Assignment_8.ipynb\n",
      "Assignment_9.docx\n",
      "Assignment_9.ipynb\n",
      "today_date.txt\n"
     ]
    }
   ],
   "source": [
    "import os\n",
    "\n",
    "current_dir = os.getcwd()\n",
    "\n",
    "files_in_dir = os.listdir(current_dir)\n",
    "\n",
    "for file in files_in_dir:\n",
    "    print(file)"
   ]
  },
  {
   "cell_type": "markdown",
   "metadata": {},
   "source": [
    "5. Create a list of all of the files in your parent directory (minimum five files should be available)."
   ]
  },
  {
   "cell_type": "code",
   "execution_count": 10,
   "metadata": {},
   "outputs": [
    {
     "name": "stdout",
     "output_type": "stream",
     "text": [
      ".git\n",
      ".gitignore\n",
      "adv\n",
      "assign\n",
      "CV\n",
      "DL\n",
      "DL prac\n",
      "DSAR\n",
      "ML\n",
      "NLP\n",
      "pro\n",
      "venv\n"
     ]
    }
   ],
   "source": [
    "import os\n",
    "\n",
    "parent_dir = os.path.abspath(os.path.join(os.getcwd(),os.pardir))\n",
    "\n",
    "files_in_pardir = os.listdir(parent_dir)\n",
    "\n",
    "for file in files_in_pardir:\n",
    "    print(file)"
   ]
  },
  {
   "cell_type": "markdown",
   "metadata": {},
   "source": [
    "6. Use multiprocessing to create three separate processes. Make each one wait a random number of seconds between one and five, print the current time, and then exit."
   ]
  },
  {
   "cell_type": "code",
   "execution_count": 30,
   "metadata": {},
   "outputs": [
    {
     "name": "stdout",
     "output_type": "stream",
     "text": [
      "All processes have finished.\n"
     ]
    }
   ],
   "source": [
    "import multiprocessing\n",
    "import random\n",
    "import time\n",
    "from datetime import datetime\n",
    "\n",
    "def process_function(wait_queue, time_queue):\n",
    "    wait_time = random.randint(1, 5)\n",
    "    process_name = multiprocessing.current_process().name\n",
    "    wait_queue.put((process_name, wait_time))\n",
    "    time.sleep(wait_time)\n",
    "    current_time = datetime.now().strftime('%H:%M:%S')\n",
    "    time_queue.put((process_name, current_time))\n",
    "\n",
    "if __name__ == \"__main__\":\n",
    "    wait_times_queue = multiprocessing.Queue()\n",
    "    current_times_queue = multiprocessing.Queue()\n",
    "    processes = []\n",
    "\n",
    "    for i in range(3):\n",
    "        process = multiprocessing.Process(target=process_function, args=(wait_times_queue, current_times_queue))\n",
    "        process.start()\n",
    "        processes.append(process)\n",
    "\n",
    "    for process in processes:\n",
    "        process.join()\n",
    "\n",
    "    while not wait_times_queue.empty():\n",
    "        result = wait_times_queue.get()\n",
    "        process_name, wait_time = result\n",
    "        print(f\"Process {process_name}: Waiting for {wait_time} seconds.\")\n",
    "\n",
    "    while not current_times_queue.empty():\n",
    "        result = current_times_queue.get()\n",
    "        process_name, current_time = result\n",
    "        print(f\"Process {process_name}: Finished at {current_time}.\")\n",
    "\n",
    "    print(\"All processes have finished.\")\n"
   ]
  },
  {
   "cell_type": "markdown",
   "metadata": {},
   "source": [
    "7. Create a date object of your day of birth."
   ]
  },
  {
   "cell_type": "code",
   "execution_count": 3,
   "metadata": {},
   "outputs": [
    {
     "name": "stdout",
     "output_type": "stream",
     "text": [
      "1990-02-02 00:00:00\n"
     ]
    }
   ],
   "source": [
    "from datetime import datetime\n",
    "\n",
    "birth_date = '02/02/1990'\n",
    "\n",
    "birth_obj = datetime.strptime(birth_date, '%d/%m/%Y')\n",
    "\n",
    "print(birth_obj)"
   ]
  },
  {
   "cell_type": "markdown",
   "metadata": {},
   "source": [
    "8. What day of the week was your day of birth?"
   ]
  },
  {
   "cell_type": "code",
   "execution_count": 5,
   "metadata": {},
   "outputs": [
    {
     "name": "stdout",
     "output_type": "stream",
     "text": [
      "day of the week is Friday\n"
     ]
    }
   ],
   "source": [
    "day_of_week = birth_obj.weekday()\n",
    "\n",
    "days = ['Monday', 'Tuesday', 'Wednesday', 'Thursday', 'Friday', 'Saturday', 'Sunday']\n",
    "\n",
    "day_of_birth = days[day_of_week]\n",
    "\n",
    "print(f\"day of the week is {day_of_birth}\")"
   ]
  },
  {
   "cell_type": "markdown",
   "metadata": {},
   "source": [
    "9. When will you be (or when were you) 10,000 days old?"
   ]
  },
  {
   "cell_type": "code",
   "execution_count": 7,
   "metadata": {},
   "outputs": [
    {
     "name": "stdout",
     "output_type": "stream",
     "text": [
      "You will be (or were) 10,000 days old on: 20/06/2017\n"
     ]
    }
   ],
   "source": [
    "from datetime import datetime, timedelta\n",
    "\n",
    "\n",
    "birth_date_str = '02/02/1990'\n",
    "\n",
    "\n",
    "birth_date_obj = datetime.strptime(birth_date_str, '%d/%m/%Y')\n",
    "\n",
    "\n",
    "days_to_add = 10000\n",
    "\n",
    "\n",
    "result_date = birth_date_obj + timedelta(days=days_to_add)\n",
    "\n",
    "print(\"You will be (or were) 10,000 days old on:\", result_date.strftime('%d/%m/%Y'))\n"
   ]
  },
  {
   "cell_type": "code",
   "execution_count": null,
   "metadata": {},
   "outputs": [],
   "source": []
  }
 ],
 "metadata": {
  "kernelspec": {
   "display_name": "Python 3",
   "language": "python",
   "name": "python3"
  },
  "language_info": {
   "codemirror_mode": {
    "name": "ipython",
    "version": 3
   },
   "file_extension": ".py",
   "mimetype": "text/x-python",
   "name": "python",
   "nbconvert_exporter": "python",
   "pygments_lexer": "ipython3",
   "version": "3.8.0"
  },
  "orig_nbformat": 4
 },
 "nbformat": 4,
 "nbformat_minor": 2
}
