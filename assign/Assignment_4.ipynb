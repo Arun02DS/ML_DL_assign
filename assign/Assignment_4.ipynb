{
 "cells": [
  {
   "cell_type": "markdown",
   "metadata": {},
   "source": [
    "1. What exactly is []?"
   ]
  },
  {
   "cell_type": "markdown",
   "metadata": {},
   "source": [
    "In Python, `[]` is an empty list literal. It is used to create an empty list, which is a built-in data type that represents an ordered collection of elements. A list can hold elements of different data types, and it can be modified (i.e., elements can be added, removed, or changed) after creation.\n",
    "\n",
    "Here are a few examples of using `[]` to create an empty list and a list with elements:\n",
    "\n",
    "1. Creating an Empty List:\n",
    "   ```python\n",
    "   empty_list = []\n",
    "   print(empty_list)  # Output: []\n",
    "   ```\n",
    "\n",
    "2. Creating a List with Elements:\n",
    "   ```python\n",
    "   numbers = [1, 2, 3, 4, 5]\n",
    "   names = [\"Alice\", \"Bob\", \"Charlie\"]\n",
    "   mixed_list = [1, \"Hello\", 3.14, True]\n",
    "   ```\n",
    "\n",
    "In the first example, `empty_list` is an empty list with no elements. In the second example, we have lists `numbers`, `names`, and `mixed_list` with different elements.\n",
    "\n",
    "Lists are a versatile and commonly used data structure in Python, and they can be used for various tasks such as storing collections of data, implementing stacks and queues, and more. The empty list `[]` serves as a starting point, which you can populate with elements as needed during program execution.\n",
    "\n",
    "----"
   ]
  },
  {
   "cell_type": "markdown",
   "metadata": {},
   "source": [
    "2. In a list of values stored in a variable called spam, how would you assign the value 'hello' as the third value? (Assume [2, 4, 6, 8, 10] are in spam.)"
   ]
  },
  {
   "cell_type": "code",
   "execution_count": 2,
   "metadata": {},
   "outputs": [
    {
     "name": "stdout",
     "output_type": "stream",
     "text": [
      "[2, 4, 'hello', 8, 10]\n"
     ]
    }
   ],
   "source": [
    "spam =  [2, 4, 6, 8, 10]\n",
    "spam[2] = 'hello'\n",
    "print(spam)\n"
   ]
  },
  {
   "cell_type": "code",
   "execution_count": 5,
   "metadata": {},
   "outputs": [],
   "source": [
    "spam =  [2, 4, 6, 8, 10]\n",
    "spam.insert(2,'hello')"
   ]
  },
  {
   "cell_type": "code",
   "execution_count": 6,
   "metadata": {},
   "outputs": [
    {
     "name": "stdout",
     "output_type": "stream",
     "text": [
      "[2, 4, 'hello', 6, 8, 10]\n"
     ]
    }
   ],
   "source": [
    "print(spam)"
   ]
  },
  {
   "cell_type": "markdown",
   "metadata": {},
   "source": [
    "Let's pretend the spam includes the list ['a', 'b', 'c', 'd'] for the next three queries.\n",
    "\n",
    "3. What is the value of spam[int(int('3' * 2) / 11)]?\n",
    "\n",
    "4. What is the value of spam[-1]?\n",
    "\n",
    "5. What is the value of spam[:2]?"
   ]
  },
  {
   "cell_type": "code",
   "execution_count": 8,
   "metadata": {},
   "outputs": [],
   "source": [
    "spam = ['a', 'b', 'c', 'd']"
   ]
  },
  {
   "cell_type": "code",
   "execution_count": 9,
   "metadata": {},
   "outputs": [
    {
     "data": {
      "text/plain": [
       "'d'"
      ]
     },
     "execution_count": 9,
     "metadata": {},
     "output_type": "execute_result"
    }
   ],
   "source": [
    "spam[int(int('3' * 2) / 11)]"
   ]
  },
  {
   "cell_type": "code",
   "execution_count": 10,
   "metadata": {},
   "outputs": [
    {
     "data": {
      "text/plain": [
       "'d'"
      ]
     },
     "execution_count": 10,
     "metadata": {},
     "output_type": "execute_result"
    }
   ],
   "source": [
    "spam[-1]"
   ]
  },
  {
   "cell_type": "code",
   "execution_count": 11,
   "metadata": {},
   "outputs": [
    {
     "data": {
      "text/plain": [
       "['a', 'b']"
      ]
     },
     "execution_count": 11,
     "metadata": {},
     "output_type": "execute_result"
    }
   ],
   "source": [
    "spam[:2]"
   ]
  },
  {
   "cell_type": "markdown",
   "metadata": {},
   "source": [
    "Let's pretend bacon has the list [3.14, 'cat,' 11, 'cat,' True] for the next three questions.\n",
    "\n",
    "6. What is the value of bacon.index('cat')?\n",
    "\n",
    "7. How does bacon.append(99) change the look of the list value in bacon?\n",
    "\n",
    "8. How does bacon.remove('cat') change the look of the list in bacon?"
   ]
  },
  {
   "cell_type": "code",
   "execution_count": 16,
   "metadata": {},
   "outputs": [],
   "source": [
    "bacon = [3.14, 'cat,',11, 'cat', True]"
   ]
  },
  {
   "cell_type": "code",
   "execution_count": 17,
   "metadata": {},
   "outputs": [
    {
     "data": {
      "text/plain": [
       "3"
      ]
     },
     "execution_count": 17,
     "metadata": {},
     "output_type": "execute_result"
    }
   ],
   "source": [
    "bacon.index('cat')"
   ]
  },
  {
   "cell_type": "code",
   "execution_count": 19,
   "metadata": {},
   "outputs": [
    {
     "name": "stdout",
     "output_type": "stream",
     "text": [
      "[3.14, 'cat,', 11, 'cat', True, 99, 99]\n"
     ]
    }
   ],
   "source": [
    "bacon.append(99)\n",
    "print(bacon)"
   ]
  },
  {
   "cell_type": "code",
   "execution_count": 20,
   "metadata": {},
   "outputs": [
    {
     "name": "stdout",
     "output_type": "stream",
     "text": [
      "[3.14, 'cat,', 11, True, 99, 99]\n"
     ]
    }
   ],
   "source": [
    "bacon.remove('cat')\n",
    "print(bacon)"
   ]
  },
  {
   "cell_type": "markdown",
   "metadata": {},
   "source": [
    "9. What are the list concatenation and list replication operators?"
   ]
  },
  {
   "cell_type": "markdown",
   "metadata": {},
   "source": [
    "In Python, the list concatenation operator is `+`, and the list replication operator is `*`.\n",
    "\n",
    "1. **List Concatenation (`+`):**\n",
    "   The `+` operator is used for concatenating or combining two lists into a single list. When you use the `+` operator between two lists, it creates a new list that contains all the elements of both lists in the order they appear.\n",
    "\n",
    "   Here's an example of list concatenation:\n",
    "\n",
    "   ```python\n",
    "   list1 = [1, 2, 3]\n",
    "   list2 = [4, 5, 6]\n",
    "   result = list1 + list2\n",
    "   print(result)  # Output: [1, 2, 3, 4, 5, 6]\n",
    "   ```\n",
    "\n",
    "   In this example, `list1 + list2` creates a new list containing all the elements from `list1` followed by all the elements from `list2`.\n",
    "\n",
    "2. **List Replication (`*`):**\n",
    "   The `*` operator is used for replicating or repeating the elements of a list. When you use the `*` operator with a list and an integer, it creates a new list by repeating the original list's elements the specified number of times.\n",
    "\n",
    "   Here's an example of list replication:\n",
    "\n",
    "   ```python\n",
    "   original_list = [1, 2, 3]\n",
    "   replicated_list = original_list * 3\n",
    "   print(replicated_list)  # Output: [1, 2, 3, 1, 2, 3, 1, 2, 3]\n",
    "   ```\n",
    "\n",
    "   In this example, `original_list * 3` creates a new list by repeating the elements of `original_list` three times.\n",
    "\n",
    "Both list concatenation and replication create new lists and leave the original lists unchanged. These operators are useful for combining lists or creating lists with repeated elements efficiently.\n",
    "\n",
    "----"
   ]
  },
  {
   "cell_type": "markdown",
   "metadata": {},
   "source": [
    "10. What is difference between the list methods append() and insert()?"
   ]
  },
  {
   "cell_type": "markdown",
   "metadata": {},
   "source": [
    "The `append()` and `insert()` methods in Python are used to add elements to a list, but they differ in how the elements are added and where they are placed in the list.\n",
    "\n",
    "1. **`append()` Method:**\n",
    "   The `append()` method is used to add an element to the end of a list. It takes a single argument, which is the element you want to add, and appends it to the end of the list.\n",
    "\n",
    "   Syntax:\n",
    "   ```python\n",
    "   my_list.append(element)\n",
    "   ```\n",
    "\n",
    "   Example:\n",
    "   ```python\n",
    "   my_list = [1, 2, 3]\n",
    "   my_list.append(4)\n",
    "   print(my_list)  # Output: [1, 2, 3, 4]\n",
    "   ```\n",
    "\n",
    "   In this example, the `append()` method adds the element `4` to the end of the list, extending the list's length by one.\n",
    "\n",
    "2. **`insert()` Method:**\n",
    "   The `insert()` method is used to add an element at a specific position in the list. It takes two arguments: the index at which you want to insert the element and the element itself.\n",
    "\n",
    "   Syntax:\n",
    "   ```python\n",
    "   my_list.insert(index, element)\n",
    "   ```\n",
    "\n",
    "   Example:\n",
    "   ```python\n",
    "   my_list = [1, 2, 3]\n",
    "   my_list.insert(1, 100)\n",
    "   print(my_list)  # Output: [1, 100, 2, 3]\n",
    "   ```\n",
    "\n",
    "   In this example, the `insert()` method adds the element `100` at index `1`, shifting the existing elements to the right.\n",
    "\n",
    "In summary, the main difference between `append()` and `insert()` is:\n",
    "\n",
    "- `append()` adds an element to the end of the list, increasing the list's length by one.\n",
    "- `insert()` adds an element at a specific position in the list, and you can choose where to insert the element by providing the index. The existing elements are shifted to accommodate the new element.\n",
    "\n",
    "Choose the appropriate method based on whether you want to add an element to the end of the list or at a specific position within the list.\n",
    "\n",
    "----"
   ]
  },
  {
   "cell_type": "markdown",
   "metadata": {},
   "source": [
    "11. What are the two methods for removing items from a list?"
   ]
  },
  {
   "cell_type": "markdown",
   "metadata": {},
   "source": [
    "In Python, there are two main methods for removing items from a list:\n",
    "\n",
    "1. **`remove()` Method:**\n",
    "   The `remove()` method is used to remove the first occurrence of a specified value from the list. It takes a single argument, which is the value you want to remove from the list. If the value is found in the list, the `remove()` method removes it from the list. If the value appears multiple times in the list, only the first occurrence is removed.\n",
    "\n",
    "   Syntax:\n",
    "   ```python\n",
    "   my_list.remove(value)\n",
    "   ```\n",
    "\n",
    "   Example:\n",
    "   ```python\n",
    "   my_list = [1, 2, 3, 2, 4]\n",
    "   my_list.remove(2)\n",
    "   print(my_list)  # Output: [1, 3, 2, 4]\n",
    "   ```\n",
    "\n",
    "   In this example, the `remove()` method removes the first occurrence of `2` from the list.\n",
    "\n",
    "2. **`pop()` Method:**\n",
    "   The `pop()` method is used to remove an item from the list at a specific index. If no index is provided, it removes and returns the last element of the list. If an index is provided, it removes and returns the element at that index, shifting the remaining elements to fill the gap.\n",
    "\n",
    "   Syntax:\n",
    "   ```python\n",
    "   my_list.pop(index=None)\n",
    "   ```\n",
    "\n",
    "   Example:\n",
    "   ```python\n",
    "   my_list = [1, 2, 3, 4]\n",
    "   my_list.pop()  # Removes and returns the last element (4)\n",
    "   print(my_list)  # Output: [1, 2, 3]\n",
    "\n",
    "   my_list.pop(1)  # Removes and returns the element at index 1 (2)\n",
    "   print(my_list)  # Output: [1, 3]\n",
    "   ```\n",
    "\n",
    "   In this example, the `pop()` method removes the last element when called without an index and removes the element at index `1` when called with an index.\n",
    "\n",
    "Both methods modify the original list. The `remove()` method removes elements based on their value, while the `pop()` method removes elements based on their index. Choose the appropriate method based on your specific use case and whether you want to remove items based on their values or indices.\n",
    "\n",
    "----"
   ]
  },
  {
   "cell_type": "markdown",
   "metadata": {},
   "source": [
    "12. Describe how list values and string values are identical."
   ]
  },
  {
   "cell_type": "markdown",
   "metadata": {},
   "source": [
    "List values and string values are both sequences of elements in Python, and they share several similarities:\n",
    "\n",
    "1. **Sequential Data:** Both lists and strings are ordered collections of elements. In a list, the elements can be of any data type, such as integers, strings, floats, or even other lists. In a string, the elements are characters.\n",
    "\n",
    "2. **Indexing and Slicing:** Both lists and strings support indexing and slicing to access individual elements or subsequences. You can use square brackets (`[]`) to access elements by their index, and you can use slice notation (`[start:end]`) to extract a portion of the list or string.\n",
    "\n",
    "3. **Iterability:** Lists and strings are iterable objects, which means you can loop over their elements using `for` loops or other iteration techniques like list comprehensions.\n",
    "\n",
    "4. **Length:** You can determine the number of elements in both lists and strings using the `len()` function.\n",
    "\n",
    "5. **Concatenation and Repetition:** Both lists and strings support concatenation using the `+` operator and repetition using the `*` operator.\n",
    "\n",
    "Example of Similarities:\n",
    "\n",
    "```python\n",
    "# List\n",
    "my_list = [1, 2, 3, 4]\n",
    "\n",
    "# String\n",
    "my_string = \"Hello, World!\"\n",
    "\n",
    "# Indexing\n",
    "print(my_list[0])  # Output: 1\n",
    "print(my_string[7])  # Output: W\n",
    "\n",
    "# Slicing\n",
    "print(my_list[1:3])  # Output: [2, 3]\n",
    "print(my_string[0:5])  # Output: Hello\n",
    "\n",
    "# Iteration\n",
    "for item in my_list:\n",
    "    print(item)  # Output: 1 2 3 4\n",
    "\n",
    "for char in my_string:\n",
    "    print(char)  # Output: H e l l o ,   W o r l d !\n",
    "\n",
    "# Length\n",
    "print(len(my_list))  # Output: 4\n",
    "print(len(my_string))  # Output: 13\n",
    "\n",
    "# Concatenation and Repetition\n",
    "concatenated_list = my_list + [5, 6]\n",
    "print(concatenated_list)  # Output: [1, 2, 3, 4, 5, 6]\n",
    "\n",
    "repeated_string = my_string * 3\n",
    "print(repeated_string)  # Output: Hello, World!Hello, World!Hello, World!\n",
    "```\n",
    "\n",
    "While lists and strings share these similarities, it's important to note that they are distinct data types in Python, and they serve different purposes. Lists are mutable, meaning you can modify their elements after creation, while strings are immutable, and their characters cannot be changed once they are created. Understanding the differences between lists and strings helps in using them effectively in different programming scenarios.\n",
    "\n",
    "-----"
   ]
  },
  {
   "cell_type": "markdown",
   "metadata": {},
   "source": [
    "13. What's the difference between tuples and lists?"
   ]
  },
  {
   "cell_type": "markdown",
   "metadata": {},
   "source": [
    "Tuples and lists are both data structures in Python used to store collections of items, but they have several key differences:\n",
    "\n",
    "1. **Mutability:**\n",
    "   - Lists are mutable, which means you can modify their elements after creation. You can add, remove, or modify elements in a list.\n",
    "   - Tuples are immutable, which means once they are created, their elements cannot be changed, added, or removed. The elements in a tuple remain fixed.\n",
    "\n",
    "2. **Syntax:**\n",
    "   - Lists are defined using square brackets `[ ]`.\n",
    "   - Tuples are defined using parentheses `( )`.\n",
    "\n",
    "3. **Performance:**\n",
    "   - Lists have slightly more overhead compared to tuples because lists are mutable. The extra overhead is due to the need to manage the ability to change the elements in a list.\n",
    "   - Tuples have less overhead and are generally faster when accessing elements because they are immutable.\n",
    "\n",
    "4. **Use Case:**\n",
    "   - Use lists when you need a collection of elements that may change over time, or when you require flexibility to add, remove, or modify elements.\n",
    "   - Use tuples when you have a fixed set of elements that you do not want to change. Tuples are often used for collections of related values or to return multiple values from a function.\n",
    "\n",
    "5. **Typical Scenarios:**\n",
    "   - Lists are commonly used for dynamic data like user input, data that needs to be modified, or when the number of elements may change during program execution.\n",
    "   - Tuples are often used to represent fixed collections of related data, such as coordinates (x, y), RGB color values, or dates.\n",
    "\n",
    "Example of Differences:\n",
    "\n",
    "```python\n",
    "# List (Mutable)\n",
    "my_list = [1, 2, 3]\n",
    "my_list[0] = 10  # Valid: Lists are mutable\n",
    "print(my_list)  # Output: [10, 2, 3]\n",
    "\n",
    "# Tuple (Immutable)\n",
    "my_tuple = (1, 2, 3)\n",
    "# my_tuple[0] = 10  # Invalid: Tuples are immutable\n",
    "# TypeError: 'tuple' object does not support item assignment\n",
    "\n",
    "# Lists are flexible and can be modified\n",
    "my_list.append(4)  # Valid: Add an element to the end of the list\n",
    "print(my_list)  # Output: [10, 2, 3, 4]\n",
    "\n",
    "# Tuples cannot be modified\n",
    "# my_tuple.append(4)  # Invalid: Tuples are immutable\n",
    "# AttributeError: 'tuple' object has no attribute 'append'\n",
    "```\n",
    "\n",
    "In summary, the choice between using a list or a tuple depends on the specific requirements of your program. If you need a collection that can change or be modified, use a list. If you need an unchangeable collection with fixed values, use a tuple. Understanding the differences between tuples and lists helps you select the appropriate data structure for your particular use case.\n",
    "\n",
    "---"
   ]
  },
  {
   "cell_type": "markdown",
   "metadata": {},
   "source": [
    "14. How do you type a tuple value that only contains the integer 42?"
   ]
  },
  {
   "cell_type": "markdown",
   "metadata": {},
   "source": [
    "To create a tuple value that only contains the integer `42`, you can use parentheses `()` to define the tuple, and then place the integer `42` inside the parentheses. Since a tuple with a single element requires a trailing comma to distinguish it from a simple expression, you should include a comma after the `42` to create a single-element tuple.\n",
    "\n",
    "Here's how you can create the tuple with the integer `42`:\n",
    "\n",
    "```python\n",
    "my_tuple = (42,)\n",
    "print(my_tuple)  # Output: (42,)\n",
    "```\n",
    "\n",
    "In this example, the variable `my_tuple` holds a single-element tuple containing the integer `42`. The trailing comma after `42` indicates that it is a tuple, even though it contains only one element.\n",
    "\n",
    "Without the trailing comma, Python would interpret `(42)` as an arithmetic expression, and `my_tuple` would be assigned the integer `42` directly rather than being a tuple. So, it is essential to include the trailing comma to create a single-element tuple.\n",
    "\n",
    "----"
   ]
  },
  {
   "cell_type": "markdown",
   "metadata": {},
   "source": [
    "15. How do you get a list value's tuple form? How do you get a tuple value's list form?"
   ]
  },
  {
   "cell_type": "markdown",
   "metadata": {},
   "source": [
    "To get a list value's tuple form, you can use the `tuple()` constructor, passing the list as an argument. This will convert the list into a tuple.\n",
    "\n",
    "```python\n",
    "my_list = [1, 2, 3]\n",
    "my_tuple = tuple(my_list)\n",
    "print(my_tuple)  # Output: (1, 2, 3)\n",
    "```\n",
    "\n",
    "In this example, `tuple(my_list)` converts the list `my_list` into a tuple form, and the resulting tuple is `(1, 2, 3)`.\n",
    "\n",
    "To get a tuple value's list form, you can use the `list()` constructor, passing the tuple as an argument. This will convert the tuple into a list.\n",
    "\n",
    "```python\n",
    "my_tuple = (10, 20, 30)\n",
    "my_list = list(my_tuple)\n",
    "print(my_list)  # Output: [10, 20, 30]\n",
    "```\n",
    "\n",
    "In this example, `list(my_tuple)` converts the tuple `my_tuple` into a list form, and the resulting list is `[10, 20, 30]`.\n",
    "\n",
    "Using the `tuple()` constructor to convert a list into a tuple or the `list()` constructor to convert a tuple into a list allows you to switch between these two data structures as needed in your Python code. This can be helpful when you want to perform specific operations or use methods that are specific to lists or tuples.\n",
    "\n",
    "----"
   ]
  },
  {
   "cell_type": "markdown",
   "metadata": {},
   "source": [
    "16. Variables that \"contain\" list values are not necessarily lists themselves. Instead, what do they contain?"
   ]
  },
  {
   "cell_type": "markdown",
   "metadata": {},
   "source": [
    "Variables that \"contain\" list values in Python are not the lists themselves, but rather references or pointers to the list objects in memory. When you assign a list to a variable, the variable does not store the actual list data. Instead, it stores the memory address (reference) where the list is located in the computer's memory.\n",
    "\n",
    "In Python, all variables that hold mutable objects, such as lists, dictionaries, or sets, are references to the memory location of the actual object. On the other hand, variables holding immutable objects, like integers, strings, or tuples, store the actual values directly.\n",
    "\n",
    "Let's illustrate this with an example:\n",
    "\n",
    "```python\n",
    "# Assigning a list to a variable\n",
    "original_list = [1, 2, 3]\n",
    "# 'original_list' contains a reference to the list object in memory\n",
    "\n",
    "# Creating a new variable and assigning it the same list\n",
    "new_list = original_list\n",
    "# 'new_list' now also contains a reference to the same list object in memory\n",
    "\n",
    "# Modifying the list through 'original_list'\n",
    "original_list.append(4)\n",
    "print(original_list)  # Output: [1, 2, 3, 4]\n",
    "print(new_list)       # Output: [1, 2, 3, 4]\n",
    "```\n",
    "\n",
    "In this example, when we assign `original_list` to `new_list`, both variables reference the same list object in memory. If we modify the list through either variable, the change is reflected in both variables, as they point to the same memory location.\n",
    "\n",
    "This behavior is important to understand when working with mutable objects like lists because modifying the object through one variable will affect all other variables that reference the same object. If you want to create a copy of a list to have a separate and independent object, you need to use the `copy()` method or slicing to create a shallow copy. For example:\n",
    "\n",
    "```python\n",
    "original_list = [1, 2, 3]\n",
    "new_list = original_list.copy()  # Creates a new list with the same elements\n",
    "# or\n",
    "new_list = original_list[:]       # Creates a shallow copy of the list\n",
    "```\n",
    "\n",
    "With these techniques, you can ensure that you have two separate list objects with independent data.\n",
    "\n",
    "----"
   ]
  },
  {
   "cell_type": "markdown",
   "metadata": {},
   "source": [
    "17. How do you distinguish between copy.copy() and copy.deepcopy()?"
   ]
  },
  {
   "cell_type": "markdown",
   "metadata": {},
   "source": [
    "In Python, the `copy` module provides two methods for creating copies of objects: `copy()` and `deepcopy()`. Both methods are used to duplicate objects, but they differ in how they handle objects containing other objects (nested objects).\n",
    "\n",
    "1. **`copy.copy()` (Shallow Copy):**\n",
    "   - The `copy.copy()` method creates a shallow copy of an object. It copies the object itself, but not the objects that the original object contains.\n",
    "   - If the object being copied contains other mutable objects (e.g., lists, dictionaries, or other custom objects), the copied object will still reference the same nested objects as the original object.\n",
    "   - Changes made to the nested objects in the copied object will affect the corresponding nested objects in the original object.\n",
    "\n",
    "   Example:\n",
    "\n",
    "   ```python\n",
    "   import copy\n",
    "\n",
    "   original_list = [1, [2, 3], 4]\n",
    "   copied_list = copy.copy(original_list)\n",
    "\n",
    "   # Modify the nested list in the copied object\n",
    "   copied_list[1][0] = 100\n",
    "   print(copied_list)      # Output: [1, [100, 3], 4]\n",
    "   print(original_list)    # Output: [1, [100, 3], 4]\n",
    "   ```\n",
    "\n",
    "2. **`copy.deepcopy()` (Deep Copy):**\n",
    "   - The `copy.deepcopy()` method creates a deep copy of an object. It copies both the object itself and all the objects that the original object contains, recursively.\n",
    "   - If the object being copied contains other mutable objects, the copied object will have its own separate copies of those nested objects. Changes made to the nested objects in the copied object will not affect the corresponding nested objects in the original object.\n",
    "\n",
    "   Example:\n",
    "\n",
    "   ```python\n",
    "   import copy\n",
    "\n",
    "   original_list = [1, [2, 3], 4]\n",
    "   deep_copied_list = copy.deepcopy(original_list)\n",
    "\n",
    "   # Modify the nested list in the deep copied object\n",
    "   deep_copied_list[1][0] = 100\n",
    "   print(deep_copied_list)    # Output: [1, [100, 3], 4]\n",
    "   print(original_list)       # Output: [1, [2, 3], 4]\n",
    "   ```\n",
    "\n",
    "In summary, `copy.copy()` creates a shallow copy of an object, while `copy.deepcopy()` creates a deep copy of an object, including all nested objects. If you need to duplicate an object and want to ensure that changes made to nested objects in the copy do not affect the original object, you should use `copy.deepcopy()`. However, if you only need a top-level copy and don't mind sharing nested objects with the original, `copy.copy()` may be sufficient.\n",
    "\n",
    "-----"
   ]
  },
  {
   "cell_type": "markdown",
   "metadata": {},
   "source": []
  }
 ],
 "metadata": {
  "kernelspec": {
   "display_name": "Python 3",
   "language": "python",
   "name": "python3"
  },
  "language_info": {
   "codemirror_mode": {
    "name": "ipython",
    "version": 3
   },
   "file_extension": ".py",
   "mimetype": "text/x-python",
   "name": "python",
   "nbconvert_exporter": "python",
   "pygments_lexer": "ipython3",
   "version": "3.8.0"
  },
  "orig_nbformat": 4
 },
 "nbformat": 4,
 "nbformat_minor": 2
}
