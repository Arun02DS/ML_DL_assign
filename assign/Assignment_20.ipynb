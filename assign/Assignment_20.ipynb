{
 "cells": [
  {
   "cell_type": "markdown",
   "metadata": {},
   "source": [
    "1. Set the variable test1 to the string 'This is a test of the emergency text system,' and save test1 to a file named test.txt."
   ]
  },
  {
   "cell_type": "code",
   "execution_count": 1,
   "metadata": {},
   "outputs": [
    {
     "name": "stdout",
     "output_type": "stream",
     "text": [
      "variable test text saved to test.txt\n"
     ]
    }
   ],
   "source": [
    "test1 = \"This is a test of the emergency text system\"\n",
    "\n",
    "file_path = 'test.txt'\n",
    "\n",
    "with open(file_path,'w') as f:\n",
    "    f.write(test1)\n",
    "\n",
    "print(f\"variable test text saved to {file_path}\")"
   ]
  },
  {
   "cell_type": "markdown",
   "metadata": {},
   "source": [
    "2. Read the contents of the file test.txt into the variable test2. Is there a difference between test 1 and test 2?"
   ]
  },
  {
   "cell_type": "code",
   "execution_count": 3,
   "metadata": {},
   "outputs": [
    {
     "name": "stdout",
     "output_type": "stream",
     "text": [
      "both files are same\n"
     ]
    }
   ],
   "source": [
    "file_path = 'test.txt'\n",
    "\n",
    "with open(file_path,'r') as f:\n",
    "    test2=f.read()\n",
    "\n",
    "if test1==test2:\n",
    "    print(f\"both files are same\")\n",
    "else:\n",
    "    print(f\"both files are not same\")\n"
   ]
  },
  {
   "cell_type": "markdown",
   "metadata": {},
   "source": [
    "3. Create a CSV file called books.csv by using these lines:\n",
    "\n",
    "title,author,year\n",
    "\n",
    "The Weirdstone of Brisingamen,Alan Garner,1960\n",
    "\n",
    "Perdido Street Station,China Miéville,2000\n",
    "\n",
    "Thud!,Terry Pratchett,2005\n",
    "\n",
    "The Spellman Files,Lisa Lutz,2007\n",
    "\n",
    "Small Gods,Terry Pratchett,1992"
   ]
  },
  {
   "cell_type": "code",
   "execution_count": 6,
   "metadata": {},
   "outputs": [
    {
     "name": "stdout",
     "output_type": "stream",
     "text": [
      "File successfully created\n"
     ]
    }
   ],
   "source": [
    "import csv\n",
    "\n",
    "data = [\n",
    "    ['title','author','year'],\n",
    "    ['The Weirdstone of Brisingamen','Alan Garner','1960'],\n",
    "    ['Perdido Street Station','China Miéville','2000'],\n",
    "    ['Thud!','Terry Pratchett','2005'],\n",
    "    ['The Spellman Files','Lisa Lutz','2007'],\n",
    "    ['Small Gods','Terry Pratchett','1992']\n",
    "\n",
    "]\n",
    "\n",
    "file_path='books.csv'\n",
    "\n",
    "with open(file_path, 'w' , newline='') as csvfile:\n",
    "    csvwriter= csv.writer(csvfile)\n",
    "    csvwriter.writerows(data)\n",
    "print(f\"File successfully created\")"
   ]
  },
  {
   "cell_type": "markdown",
   "metadata": {},
   "source": [
    "4. Use the sqlite3 module to create a SQLite database called books.db, and a table called books with these fields: title (text), author (text), and year (integer)."
   ]
  },
  {
   "cell_type": "code",
   "execution_count": 1,
   "metadata": {},
   "outputs": [
    {
     "name": "stdout",
     "output_type": "stream",
     "text": [
      "database and table are created\n"
     ]
    }
   ],
   "source": [
    "import sqlite3\n",
    "\n",
    "conn = sqlite3.connect('books.db')\n",
    "\n",
    "cursor = conn.cursor()\n",
    "\n",
    "cursor.execute('''\n",
    "    CREATE TABLE IF NOT EXISTS books(\n",
    "        title TEXT,\n",
    "        author TEXT,\n",
    "        year INTERGER\n",
    "    )\n",
    "\n",
    "    ''')\n",
    "\n",
    "conn.commit()\n",
    "conn.close()\n",
    "\n",
    "print(\"database and table are created\")\n"
   ]
  },
  {
   "cell_type": "markdown",
   "metadata": {},
   "source": [
    "5. Read books.csv and insert its data into the book table."
   ]
  },
  {
   "cell_type": "code",
   "execution_count": 6,
   "metadata": {},
   "outputs": [],
   "source": [
    "import csv\n",
    "import sqlite3\n",
    "\n",
    "def insert_data_csv(csv_file,db_file):\n",
    "    conn=sqlite3.connect(db_file)\n",
    "    cursor=conn.cursor()\n",
    "\n",
    "    with open(csv_file,newline='',encoding='utf-8') as f:\n",
    "        csv_reader=csv.DictReader(f)\n",
    "        for row in csv_reader:\n",
    "            title=row['title']\n",
    "            author=row['author']\n",
    "            year=int(row['year'])\n",
    "\n",
    "            cursor.execute('INSERT INTO books (title,author,year) VALUES(?,?,?)',(title,author,year))\n",
    "\n",
    "    conn.commit()\n",
    "    conn.close()"
   ]
  },
  {
   "cell_type": "code",
   "execution_count": 7,
   "metadata": {},
   "outputs": [
    {
     "name": "stdout",
     "output_type": "stream",
     "text": [
      "data is inserted in db file\n"
     ]
    }
   ],
   "source": [
    "csv_file='books.csv'\n",
    "db_file='books.db'\n",
    "insert_data_csv(csv_file,db_file)\n",
    "print(\"data is inserted in db file\")\n"
   ]
  },
  {
   "cell_type": "markdown",
   "metadata": {},
   "source": [
    "6. Select and print the title column from the book table in alphabetical order."
   ]
  },
  {
   "cell_type": "code",
   "execution_count": 14,
   "metadata": {},
   "outputs": [],
   "source": [
    "def print_tiles_asnding(db_file):\n",
    "\n",
    "    conn=sqlite3.connect(db_file)\n",
    "    cursor=conn.cursor()\n",
    "\n",
    "    cursor.execute('SELECT title FROM books ORDER BY title ASC')\n",
    "    titles = cursor.fetchall()\n",
    "\n",
    "    print(\"Tiles in ASC order:\")\n",
    "    for title in titles:\n",
    "        print(title[0])\n",
    "    conn.close()"
   ]
  },
  {
   "cell_type": "code",
   "execution_count": 15,
   "metadata": {},
   "outputs": [
    {
     "name": "stdout",
     "output_type": "stream",
     "text": [
      "Tiles in ASC order:\n",
      "Perdido Street Station\n",
      "Small Gods\n",
      "The Spellman Files\n",
      "The Weirdstone of Brisingamen\n",
      "Thud!\n"
     ]
    }
   ],
   "source": [
    "print_tiles_asnding('books.db')"
   ]
  },
  {
   "cell_type": "markdown",
   "metadata": {},
   "source": [
    "7. From the book table, select and print all columns in the order of publication."
   ]
  },
  {
   "cell_type": "code",
   "execution_count": 18,
   "metadata": {},
   "outputs": [],
   "source": [
    "def print_book_year(db_file):\n",
    "\n",
    "    conn = sqlite3.connect(db_file)\n",
    "    cursor=conn.cursor()\n",
    "\n",
    "    cursor.execute('SELECT * FROM books ORDER BY year ASC')\n",
    "    books = cursor.fetchall()\n",
    "\n",
    "    print(\"Books inorder of prod\")\n",
    "\n",
    "    for book in books:\n",
    "        print(f\"book : {book[0]}, Author: {book[1]}, Year :{book[2]}\")\n",
    "    conn.close()\n"
   ]
  },
  {
   "cell_type": "code",
   "execution_count": 19,
   "metadata": {},
   "outputs": [
    {
     "name": "stdout",
     "output_type": "stream",
     "text": [
      "Books inorder of prod\n",
      "book : The Weirdstone of Brisingamen, Author: Alan Garner, Year :1960\n",
      "book : Small Gods, Author: Terry Pratchett, Year :1992\n",
      "book : Perdido Street Station, Author: China Miéville, Year :2000\n",
      "book : Thud!, Author: Terry Pratchett, Year :2005\n",
      "book : The Spellman Files, Author: Lisa Lutz, Year :2007\n"
     ]
    }
   ],
   "source": [
    "print_book_year('books.db')"
   ]
  },
  {
   "cell_type": "markdown",
   "metadata": {},
   "source": [
    "8. Use the sqlalchemy module to connect to the sqlite3 database books.db that you just made in exercise 6."
   ]
  },
  {
   "cell_type": "code",
   "execution_count": 22,
   "metadata": {},
   "outputs": [
    {
     "ename": "ModuleNotFoundError",
     "evalue": "No module named 'SQLALchemy'",
     "output_type": "error",
     "traceback": [
      "\u001b[1;31m---------------------------------------------------------------------------\u001b[0m",
      "\u001b[1;31mModuleNotFoundError\u001b[0m                       Traceback (most recent call last)",
      "Cell \u001b[1;32mIn[22], line 1\u001b[0m\n\u001b[1;32m----> 1\u001b[0m \u001b[39mfrom\u001b[39;00m \u001b[39mSQLALchemy\u001b[39;00m \u001b[39mimport\u001b[39;00m create_engine\n\u001b[0;32m      3\u001b[0m db_engine \u001b[39m=\u001b[39m create_engine(\u001b[39m'\u001b[39m\u001b[39msqlite://books.db\u001b[39m\u001b[39m'\u001b[39m,echo\u001b[39m=\u001b[39m\u001b[39mTrue\u001b[39;00m)\n\u001b[0;32m      5\u001b[0m \u001b[39mwith\u001b[39;00m db_engine\u001b[39m.\u001b[39mconnect() \u001b[39mas\u001b[39;00m conn:\n",
      "\u001b[1;31mModuleNotFoundError\u001b[0m: No module named 'SQLALchemy'"
     ]
    }
   ],
   "source": [
    "from SQLALchemy import create_engine\n",
    "\n",
    "db_engine = create_engine('sqlite://books.db',echo=True)\n",
    "\n",
    "with db_engine.connect() as conn:\n",
    "    result = conn.execute(\" SELECT 'connection sucessfull' \").fetchone()\n",
    "    print(result[0])"
   ]
  },
  {
   "cell_type": "code",
   "execution_count": null,
   "metadata": {},
   "outputs": [],
   "source": []
  }
 ],
 "metadata": {
  "kernelspec": {
   "display_name": "Python 3",
   "language": "python",
   "name": "python3"
  },
  "language_info": {
   "codemirror_mode": {
    "name": "ipython",
    "version": 3
   },
   "file_extension": ".py",
   "mimetype": "text/x-python",
   "name": "python",
   "nbconvert_exporter": "python",
   "pygments_lexer": "ipython3",
   "version": "3.8.0"
  },
  "orig_nbformat": 4
 },
 "nbformat": 4,
 "nbformat_minor": 2
}
