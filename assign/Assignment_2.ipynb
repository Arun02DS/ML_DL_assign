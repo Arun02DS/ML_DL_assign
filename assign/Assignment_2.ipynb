{
 "cells": [
  {
   "cell_type": "markdown",
   "metadata": {},
   "source": [
    "1.What are the two values of the Boolean data type? How do you write them?"
   ]
  },
  {
   "cell_type": "markdown",
   "metadata": {},
   "source": [
    "The Boolean data type in Python has two possible values: `True` and `False`. These values represent the two logical states of \"true\" and \"false,\" respectively.\n",
    "\n",
    "In Python, the keywords `True` and `False` are used to represent these Boolean values. They are always capitalized, and you should not use quotes around them, as they are not strings.\n",
    "\n",
    "Example:\n",
    "\n",
    "```python\n",
    "x = True\n",
    "y = False\n",
    "```\n",
    "\n",
    "In this example, `x` is assigned the value `True`, and `y` is assigned the value `False`. These Boolean values are commonly used in conditional statements, loops, and logical operations to control the flow of the program and make decisions based on the truthiness or falsiness of expressions.\n",
    "\n",
    "-----"
   ]
  },
  {
   "cell_type": "markdown",
   "metadata": {},
   "source": [
    "2. What are the three different types of Boolean operators?"
   ]
  },
  {
   "cell_type": "markdown",
   "metadata": {},
   "source": [
    "The three different types of Boolean operators are:\n",
    "\n",
    "1. **AND Operator (and):**\n",
    "   The AND operator returns `True` only if both operands are `True`. Otherwise, it returns `False`. It is denoted by the keyword `and` in Python.\n",
    "\n",
    "   Truth table for the AND operator:\n",
    "   ```\n",
    "   True and True   => True\n",
    "   True and False  => False\n",
    "   False and True  => False\n",
    "   False and False => False\n",
    "   ```\n",
    "\n",
    "2. **OR Operator (or):**\n",
    "   The OR operator returns `True` if at least one of the operands is `True`. It returns `False` only if both operands are `False`. It is denoted by the keyword `or` in Python.\n",
    "\n",
    "   Truth table for the OR operator:\n",
    "   ```\n",
    "   True or True   => True\n",
    "   True or False  => True\n",
    "   False or True  => True\n",
    "   False or False => False\n",
    "   ```\n",
    "\n",
    "3. **NOT Operator (not):**\n",
    "   The NOT operator negates the value of its operand. If the operand is `True`, it returns `False`, and if the operand is `False`, it returns `True`. It is denoted by the keyword `not` in Python.\n",
    "\n",
    "   Truth table for the NOT operator:\n",
    "   ```\n",
    "   not True  => False\n",
    "   not False => True\n",
    "   ```\n",
    "\n",
    "These Boolean operators are commonly used in Python to combine and evaluate conditions, control the flow of program execution, and perform logical operations. They are an essential part of conditional statements and are used to make decisions based on the truthiness or falsiness of expressions.\n",
    "\n",
    "-----"
   ]
  },
  {
   "cell_type": "markdown",
   "metadata": {},
   "source": [
    "3. Make a list of each Boolean operator's truth tables (i.e. every possible combination of Boolean values for the operator and what it evaluate )."
   ]
  },
  {
   "cell_type": "markdown",
   "metadata": {},
   "source": [
    "Sure! Here are the truth tables for each Boolean operator:\n",
    "\n",
    "1. AND Operator (and):\n",
    "\n",
    "| Operand 1 | Operand 2 | Result |\n",
    "|-----------|-----------|--------|\n",
    "| True      | True      | True   |\n",
    "| True      | False     | False  |\n",
    "| False     | True      | False  |\n",
    "| False     | False     | False  |\n",
    "\n",
    "2. OR Operator (or):\n",
    "\n",
    "| Operand 1 | Operand 2 | Result |\n",
    "|-----------|-----------|--------|\n",
    "| True      | True      | True   |\n",
    "| True      | False     | True   |\n",
    "| False     | True      | True   |\n",
    "| False     | False     | False  |\n",
    "\n",
    "3. NOT Operator (not):\n",
    "\n",
    "| Operand | Result |\n",
    "|---------|--------|\n",
    "| True    | False  |\n",
    "| False   | True   |\n",
    "\n",
    "In these truth tables, each row represents a combination of Boolean values for the corresponding operator, and the \"Result\" column indicates the outcome of applying the operator to the given operands. These tables define how the Boolean operators behave and help in understanding their logical operations.\n",
    "\n",
    "----"
   ]
  },
  {
   "cell_type": "markdown",
   "metadata": {},
   "source": [
    "4. What are the values of the following expressions?\n",
    "\n",
    "(5 > 4) and (3 == 5)\n",
    "\n",
    "not (5 > 4)\n",
    "\n",
    "(5 > 4) or (3 == 5)\n",
    "\n",
    "not ((5 > 4) or (3 == 5))\n",
    "\n",
    "(True and True) and (True == False)\n",
    "\n",
    "(not False) or (not True)"
   ]
  },
  {
   "cell_type": "markdown",
   "metadata": {},
   "source": [
    "(5 > 4) and (3 == 5) False"
   ]
  },
  {
   "cell_type": "markdown",
   "metadata": {},
   "source": [
    "not (5 > 4) False"
   ]
  },
  {
   "cell_type": "markdown",
   "metadata": {},
   "source": [
    "(5 > 4) or (3 == 5) True"
   ]
  },
  {
   "cell_type": "markdown",
   "metadata": {},
   "source": [
    "not ((5 > 4) or (3 == 5)) False"
   ]
  },
  {
   "cell_type": "markdown",
   "metadata": {},
   "source": [
    "(True and True) and (True == False)  === False"
   ]
  },
  {
   "cell_type": "markdown",
   "metadata": {},
   "source": [
    "(not False) or (not True)  ==== True"
   ]
  },
  {
   "cell_type": "markdown",
   "metadata": {},
   "source": [
    "5. What are the six comparison operators?"
   ]
  },
  {
   "cell_type": "markdown",
   "metadata": {},
   "source": [
    "The six comparison operators in Python are used to compare two values and evaluate their relationship. These operators return Boolean values (`True` or `False`) based on whether the comparison is true or false. Here are the six comparison operators:\n",
    "\n",
    "1. **Equal to (==):**\n",
    "   This operator checks if the values of two operands are equal. It returns `True` if the operands are equal; otherwise, it returns `False`.\n",
    "\n",
    "   Example: \n",
    "   ```python\n",
    "   x == y  # Returns True if the value of 'x' is equal to the value of 'y'\n",
    "   ```\n",
    "\n",
    "2. **Not equal to (!=):**\n",
    "   This operator checks if the values of two operands are not equal. It returns `True` if the operands are different; otherwise, it returns `False`.\n",
    "\n",
    "   Example: \n",
    "   ```python\n",
    "   x != y  # Returns True if the value of 'x' is not equal to the value of 'y'\n",
    "   ```\n",
    "\n",
    "3. **Greater than (>):**\n",
    "   This operator checks if the value of the left operand is greater than the value of the right operand. It returns `True` if the left operand is greater; otherwise, it returns `False`.\n",
    "\n",
    "   Example: \n",
    "   ```python\n",
    "   x > y  # Returns True if the value of 'x' is greater than the value of 'y'\n",
    "   ```\n",
    "\n",
    "4. **Less than (<):**\n",
    "   This operator checks if the value of the left operand is less than the value of the right operand. It returns `True` if the left operand is less; otherwise, it returns `False`.\n",
    "\n",
    "   Example: \n",
    "   ```python\n",
    "   x < y  # Returns True if the value of 'x' is less than the value of 'y'\n",
    "   ```\n",
    "\n",
    "5. **Greater than or equal to (>=):**\n",
    "   This operator checks if the value of the left operand is greater than or equal to the value of the right operand. It returns `True` if the left operand is greater than or equal; otherwise, it returns `False`.\n",
    "\n",
    "   Example: \n",
    "   ```python\n",
    "   x >= y  # Returns True if the value of 'x' is greater than or equal to the value of 'y'\n",
    "   ```\n",
    "\n",
    "6. **Less than or equal to (<=):**\n",
    "   This operator checks if the value of the left operand is less than or equal to the value of the right operand. It returns `True` if the left operand is less than or equal; otherwise, it returns `False`.\n",
    "\n",
    "   Example: \n",
    "   ```python\n",
    "   x <= y  # Returns True if the value of 'x' is less than or equal to the value of 'y'\n",
    "   ```\n",
    "\n",
    "These comparison operators are used in conditional statements, loops, and other situations where you need to compare values to make decisions in your Python programs.\n",
    "\n",
    "-----"
   ]
  },
  {
   "cell_type": "markdown",
   "metadata": {},
   "source": [
    "6. How do you tell the difference between the equal to and assignment operators?Describe a condition and when you would use one."
   ]
  },
  {
   "cell_type": "markdown",
   "metadata": {},
   "source": [
    "The equal to operator (`==`) and the assignment operator (`=`) are two different operators used in Python for distinct purposes:\n",
    "\n",
    "1. Equal to Operator (==):\n",
    "   The equal to operator (`==`) is used to compare two values to check if they are equal. It returns `True` if the values are equal, and `False` if they are not equal.\n",
    "\n",
    "   Example:\n",
    "   ```python\n",
    "   x = 5\n",
    "   y = 10\n",
    "   result = (x == y)  # This compares the values of 'x' and 'y' (5 == 10), which is False.\n",
    "   ```\n",
    "\n",
    "2. Assignment Operator (=):\n",
    "   The assignment operator (`=`) is used to assign a value to a variable. It assigns the value on the right-hand side of the operator to the variable on the left-hand side.\n",
    "\n",
    "   Example:\n",
    "   ```python\n",
    "   x = 5  # Assigns the value 5 to the variable 'x'.\n",
    "   ```\n",
    "\n",
    "Difference:\n",
    "The key difference between the equal to operator (`==`) and the assignment operator (`=`) is their purpose and behavior. The equal to operator is used for comparison, while the assignment operator is used to assign values to variables.\n",
    "\n",
    "Condition and Usage:\n",
    "A common condition where you would use the equal to operator is in conditional statements. For example, you might use it in an `if` statement to check if a variable's value is equal to a specific value:\n",
    "\n",
    "```python\n",
    "x = 10\n",
    "\n",
    "if x == 10:  # Checks if the value of 'x' is equal to 10.\n",
    "    print(\"x is equal to 10\")\n",
    "else:\n",
    "    print(\"x is not equal to 10\")\n",
    "```\n",
    "\n",
    "On the other hand, you would use the assignment operator when you want to store a value in a variable:\n",
    "\n",
    "```python\n",
    "x = 5  # Assigns the value 5 to the variable 'x'.\n",
    "```\n",
    "\n",
    "In summary, use the equal to operator (`==`) to compare values in conditional statements, and use the assignment operator (`=`) to assign values to variables.\n",
    "\n",
    "-----"
   ]
  },
  {
   "cell_type": "markdown",
   "metadata": {},
   "source": [
    "7. Identify the three blocks in this code:\n",
    "\n",
    "spam = 0\n",
    "\n",
    "if spam == 10:\n",
    "\n",
    "print('eggs')\n",
    "\n",
    "if spam > 5:\n",
    "\n",
    "print('bacon')\n",
    "\n",
    "else:\n",
    "\n",
    "print('ham')\n",
    "\n",
    "print('spam')\n",
    "\n",
    "print('spam')"
   ]
  },
  {
   "cell_type": "markdown",
   "metadata": {},
   "source": [
    "7. Identify the three blocks in this code:\n",
    "\n",
    "spam = 0\n",
    "\n",
    "[if spam == 10:\n",
    "\n",
    "print('eggs')]\n",
    "\n",
    "#####1\n",
    "\n",
    "[if spam > 5:\n",
    "\n",
    "print('bacon')]\n",
    "\n",
    "#####2\n",
    "\n",
    "[else:\n",
    "\n",
    "print('ham')\n",
    "\n",
    "print('spam')\n",
    "\n",
    "print('spam')]\n",
    "\n",
    "#####3"
   ]
  },
  {
   "cell_type": "markdown",
   "metadata": {},
   "source": [
    "8. Write code that prints Hello if 1 is stored in spam, prints Howdy if 2 is stored in spam, and prints Greetings! if anything else is stored in spam."
   ]
  },
  {
   "cell_type": "markdown",
   "metadata": {},
   "source": [
    "\n",
    "\n",
    "```python\n",
    "spam = int(input(\"Enter a value for spam: \"))\n",
    "\n",
    "if spam == 1:\n",
    "    print(\"Hello\")\n",
    "elif spam == 2:\n",
    "    print(\"Howdy\")\n",
    "else:\n",
    "    print(\"Greetings!\")\n",
    "```"
   ]
  },
  {
   "cell_type": "markdown",
   "metadata": {},
   "source": [
    "9.If your programme is stuck in an endless loop, what keys you’ll press?"
   ]
  },
  {
   "cell_type": "markdown",
   "metadata": {},
   "source": [
    "\n",
    "\n",
    "1. **Ctrl + C (Control + C):**\n",
    "   On most systems, pressing `Ctrl + C` will send a \"Keyboard Interrupt\" signal to the running program, causing it to terminate. This is the most common way to break out of an endless loop and stop a program that is stuck.\n",
    "\n",
    "2. **Ctrl + Break (Windows) or Command + . (Mac):**\n",
    "   On Windows, you can also try pressing `Ctrl + Break` to stop the program. On Mac, you can try pressing `Command + .` (period key) to interrupt the program.\n",
    "\n",
    "3. **Ctrl + Z (Windows) or Command + Z (Mac):**\n",
    "   In some cases, pressing `Ctrl + Z` (Windows) or `Command + Z` (Mac) might also help in stopping the program. However, this may vary depending on the specific environment and operating system.\n",
    "\n",
    "   -----\n"
   ]
  },
  {
   "cell_type": "markdown",
   "metadata": {},
   "source": [
    "10. How can you tell the difference between break and continue?"
   ]
  },
  {
   "cell_type": "markdown",
   "metadata": {},
   "source": [
    "`break` and `continue` are two control flow statements used in loops in Python. They serve different purposes:\n",
    "\n",
    "1. `break` statement:\n",
    "   The `break` statement is used to immediately terminate the current loop (for loop or while loop) and exit the loop's block of code. When the `break` statement is encountered, the program flow will continue with the next statement after the loop. It is commonly used to prematurely exit a loop when a specific condition is met.\n",
    "\n",
    "   Example:\n",
    "   ```python\n",
    "   for i in range(1, 6):\n",
    "       if i == 3:\n",
    "           break  # When i is 3, the loop will terminate, and the program flow moves to the next statement after the loop.\n",
    "       print(i)\n",
    "   ```\n",
    "\n",
    "   Output:\n",
    "   ```\n",
    "   1\n",
    "   2\n",
    "   ```\n",
    "\n",
    "2. `continue` statement:\n",
    "   The `continue` statement is used to skip the remaining part of the current iteration and move on to the next iteration of the loop. When the `continue` statement is encountered, the loop does not execute the rest of its code for the current iteration, but it continues with the next iteration.\n",
    "\n",
    "   Example:\n",
    "   ```python\n",
    "   for i in range(1, 6):\n",
    "       if i == 3:\n",
    "           continue  # When i is 3, the loop skips the print statement and proceeds to the next iteration.\n",
    "       print(i)\n",
    "   ```\n",
    "\n",
    "   Output:\n",
    "   ```\n",
    "   1\n",
    "   2\n",
    "   4\n",
    "   5\n",
    "   ```\n",
    "\n",
    "In summary, the `break` statement is used to exit the loop entirely when a specific condition is met, while the `continue` statement is used to skip the current iteration and proceed to the next iteration of the loop. Both statements are valuable for controlling the flow of a loop based on certain conditions.\n",
    "\n",
    "----"
   ]
  },
  {
   "cell_type": "markdown",
   "metadata": {},
   "source": [
    "11. In a for loop, what is the difference between range(10), range(0, 10), and range(0, 10, 1)?"
   ]
  },
  {
   "cell_type": "markdown",
   "metadata": {},
   "source": [
    "In a `for` loop, the expressions `range(10)`, `range(0, 10)`, and `range(0, 10, 1)` are functionally equivalent and will produce the same result. However, they have slight differences in how they are written:\n",
    "\n",
    "1. `range(10)`:\n",
    "   This expression creates a sequence of numbers starting from 0 (inclusive) up to, but not including, the specified stop value, which is 10 in this case. By default, if only one argument is provided to the `range()` function, it is considered as the stop value, and the sequence starts from 0.\n",
    "\n",
    "   Example:\n",
    "   ```python\n",
    "   for i in range(10):\n",
    "       print(i)\n",
    "   ```\n",
    "   Output: `0 1 2 3 4 5 6 7 8 9`\n",
    "\n",
    "2. `range(0, 10)`:\n",
    "   This expression explicitly specifies both the start and stop values of the sequence. It creates a sequence of numbers starting from the specified start value (0) up to, but not including, the specified stop value (10).\n",
    "\n",
    "   Example:\n",
    "   ```python\n",
    "   for i in range(0, 10):\n",
    "       print(i)\n",
    "   ```\n",
    "   Output: `0 1 2 3 4 5 6 7 8 9`\n",
    "\n",
    "3. `range(0, 10, 1)`:\n",
    "   This expression provides both the start value, stop value, and also an optional step value. The step value defines the increment between each number in the sequence. In this case, the sequence will start from 0 and go up to, but not including, 10, incrementing by 1 in each step. The step value is optional and, if not specified, it defaults to 1.\n",
    "\n",
    "   Example:\n",
    "   ```python\n",
    "   for i in range(0, 10, 1):\n",
    "       print(i)\n",
    "   ```\n",
    "   Output: `0 1 2 3 4 5 6 7 8 9`\n",
    "\n",
    "In conclusion, when using a `for` loop with `range()` in these three cases, the loop will iterate over the numbers from 0 to 9 (inclusive), and the three expressions are interchangeable. The difference lies in how the range is specified, with the first two expressions providing only the stop value and the third expression providing both the start, stop, and step values.\n",
    "\n",
    "-----"
   ]
  },
  {
   "cell_type": "markdown",
   "metadata": {},
   "source": [
    "12. Write a short program that prints the numbers 1 to 10 using a for loop. Then write an equivalent program that prints the numbers 1 to 10 using a while loop."
   ]
  },
  {
   "cell_type": "markdown",
   "metadata": {},
   "source": [
    "Sure! Here's a short program that prints the numbers 1 to 10 using both a `for` loop and a `while` loop:\n",
    "\n",
    "Using a `for` loop:\n",
    "\n",
    "```python\n",
    "# Using for loop\n",
    "for i in range(1, 11):\n",
    "    print(i)\n",
    "```\n",
    "\n",
    "Output:\n",
    "```\n",
    "1\n",
    "2\n",
    "3\n",
    "4\n",
    "5\n",
    "6\n",
    "7\n",
    "8\n",
    "9\n",
    "10\n",
    "```\n",
    "\n",
    "Using a `while` loop:\n",
    "\n",
    "```python\n",
    "# Using while loop\n",
    "i = 1\n",
    "while i <= 10:\n",
    "    print(i)\n",
    "    i += 1\n",
    "```\n",
    "\n",
    "Output:\n",
    "```\n",
    "1\n",
    "2\n",
    "3\n",
    "4\n",
    "5\n",
    "6\n",
    "7\n",
    "8\n",
    "9\n",
    "10\n",
    "```\n",
    "\n",
    "In both cases, the program prints the numbers 1 to 10. The `for` loop uses the `range()` function to create a sequence of numbers from 1 to 10, and the `while` loop increments a variable `i` from 1 to 10 and prints its value in each iteration. The output is the same for both programs.\n",
    "\n",
    "----"
   ]
  },
  {
   "cell_type": "markdown",
   "metadata": {},
   "source": [
    "13. If you had a function named bacon() inside a module named spam, how would you call it after importing spam?"
   ]
  },
  {
   "cell_type": "markdown",
   "metadata": {},
   "source": [
    "spam.bacon()"
   ]
  },
  {
   "cell_type": "markdown",
   "metadata": {},
   "source": []
  }
 ],
 "metadata": {
  "kernelspec": {
   "display_name": "Python 3",
   "language": "python",
   "name": "python3"
  },
  "language_info": {
   "codemirror_mode": {
    "name": "ipython",
    "version": 3
   },
   "file_extension": ".py",
   "mimetype": "text/x-python",
   "name": "python",
   "nbconvert_exporter": "python",
   "pygments_lexer": "ipython3",
   "version": "3.8.0"
  },
  "orig_nbformat": 4
 },
 "nbformat": 4,
 "nbformat_minor": 2
}
