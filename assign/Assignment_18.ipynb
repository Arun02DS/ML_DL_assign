{
 "cells": [
  {
   "cell_type": "markdown",
   "metadata": {},
   "source": [
    "1. Create a zoo.py file first. Define the hours() function, which prints the string 'Open 9-5 daily'. Then, use the interactive interpreter to import the zoo module and call its hours() function."
   ]
  },
  {
   "cell_type": "code",
   "execution_count": 2,
   "metadata": {},
   "outputs": [
    {
     "name": "stdout",
     "output_type": "stream",
     "text": [
      "Open 9-5 Daily\n"
     ]
    }
   ],
   "source": [
    "import zoo\n",
    "\n",
    "zoo.hour()"
   ]
  },
  {
   "cell_type": "markdown",
   "metadata": {},
   "source": [
    "2. In the interactive interpreter, import the zoo module as menagerie and call its hours() function."
   ]
  },
  {
   "cell_type": "code",
   "execution_count": 3,
   "metadata": {},
   "outputs": [
    {
     "name": "stdout",
     "output_type": "stream",
     "text": [
      "Open 9-5 Daily\n"
     ]
    }
   ],
   "source": [
    "import zoo as menagerie\n",
    "\n",
    "menagerie.hour()"
   ]
  },
  {
   "cell_type": "markdown",
   "metadata": {},
   "source": [
    "3. Using the interpreter, explicitly import and call the hours() function from zoo."
   ]
  },
  {
   "cell_type": "code",
   "execution_count": 5,
   "metadata": {},
   "outputs": [
    {
     "name": "stdout",
     "output_type": "stream",
     "text": [
      "Open 9-5 Daily\n"
     ]
    }
   ],
   "source": [
    "from zoo import hour\n",
    "\n",
    "hour()"
   ]
  },
  {
   "cell_type": "markdown",
   "metadata": {},
   "source": [
    "4. Import the hours() function as info and call it."
   ]
  },
  {
   "cell_type": "code",
   "execution_count": 7,
   "metadata": {},
   "outputs": [
    {
     "name": "stdout",
     "output_type": "stream",
     "text": [
      "Open 9-5 Daily\n"
     ]
    }
   ],
   "source": [
    "from zoo import hour as info\n",
    "info()\n"
   ]
  },
  {
   "cell_type": "markdown",
   "metadata": {},
   "source": [
    "5. Create a plain dictionary with the key-value pairs 'a': 1, 'b': 2, and 'c': 3, and print it out."
   ]
  },
  {
   "cell_type": "code",
   "execution_count": 8,
   "metadata": {},
   "outputs": [
    {
     "name": "stdout",
     "output_type": "stream",
     "text": [
      "{'a': 1, 'b': 2, 'c': 3}\n"
     ]
    }
   ],
   "source": [
    "Dict ={'a': 1, 'b': 2,'c': 3}\n",
    "print(Dict)"
   ]
  },
  {
   "cell_type": "markdown",
   "metadata": {},
   "source": [
    "6.Make an OrderedDict called fancy from the same pairs listed in 5 and print it. Did it print in the same order as plain?"
   ]
  },
  {
   "cell_type": "code",
   "execution_count": 11,
   "metadata": {},
   "outputs": [],
   "source": [
    "from collections import OrderedDict\n",
    "\n",
    "fancy = OrderedDict(Dict)"
   ]
  },
  {
   "cell_type": "code",
   "execution_count": 12,
   "metadata": {},
   "outputs": [
    {
     "data": {
      "text/plain": [
       "OrderedDict([('a', 1), ('b', 2), ('c', 3)])"
      ]
     },
     "execution_count": 12,
     "metadata": {},
     "output_type": "execute_result"
    }
   ],
   "source": [
    "fancy"
   ]
  },
  {
   "cell_type": "markdown",
   "metadata": {},
   "source": [
    "`OrderedDict` is a specialized dictionary class in Python's `collections` module. It inherits from the standard `dict` class but maintains the order of elements based on the order in which they were inserted. Here are the main properties of an `OrderedDict`:\n",
    "\n",
    "1. **Order Preservation:** Unlike the regular `dict`, an `OrderedDict` remembers the order of elements as they were inserted. This means that when you iterate over an `OrderedDict`, the items will be returned in the same order they were added.\n",
    "\n",
    "2. **Ordered Insertion:** When you add new key-value pairs to an `OrderedDict`, the new elements are appended at the end, preserving the order of insertion.\n",
    "\n",
    "3. **Equality Comparison:** Two `OrderedDict` instances are considered equal if they have the same key-value pairs in the same order, regardless of their insertion history.\n",
    "\n",
    "4. **Reordering Doesn't Change Equality:** Unlike a regular `dict`, the `OrderedDict` doesn't change its equality even if you reorder the key-value pairs. As long as the key-value pairs remain the same, the equality is preserved.\n",
    "\n",
    "5. **Performance:** While `OrderedDict` maintains order, it may have slightly slower performance for large dictionaries compared to regular dictionaries (`dict`). This is because it needs to maintain the internal ordering.\n",
    "\n",
    "Here's an example to illustrate these properties:\n",
    "\n",
    "```python\n",
    "from collections import OrderedDict\n",
    "\n",
    "# Create an OrderedDict\n",
    "ordered_dict = OrderedDict([('a', 1), ('b', 2), ('c', 3)])\n",
    "\n",
    "# Print the OrderedDict\n",
    "print(ordered_dict)  # Output: OrderedDict([('a', 1), ('b', 2), ('c', 3)])\n",
    "\n",
    "# Reordering doesn't change equality\n",
    "ordered_dict_reordered = OrderedDict([('b', 2), ('c', 3), ('a', 1)])\n",
    "print(ordered_dict == ordered_dict_reordered)  # Output: True\n",
    "\n",
    "# Regular dict with the same elements as OrderedDict\n",
    "regular_dict = {'a': 1, 'b': 2, 'c': 3}\n",
    "\n",
    "# Reordering changes equality for regular dict\n",
    "regular_dict_reordered = {'b': 2, 'c': 3, 'a': 1}\n",
    "print(regular_dict == regular_dict_reordered)  # Output: False\n",
    "```\n",
    "\n",
    "Keep in mind that Python 3.7+ preserves the insertion order in regular dictionaries as well, but it's still recommended to use `OrderedDict` if you need the explicit guarantee of order preservation across different Python versions."
   ]
  },
  {
   "cell_type": "markdown",
   "metadata": {},
   "source": [
    "7. Make a default dictionary called dict_of_lists and pass it the argument list. Make the list dict_of_lists['a'] and append the value 'something for a' to it in one assignment. Print dict_of_lists['a']."
   ]
  },
  {
   "cell_type": "code",
   "execution_count": 13,
   "metadata": {},
   "outputs": [
    {
     "name": "stdout",
     "output_type": "stream",
     "text": [
      "['something of a']\n"
     ]
    }
   ],
   "source": [
    "from collections import defaultdict\n",
    "\n",
    "dict_of_list = defaultdict(list)\n",
    "\n",
    "dict_of_list['a'].append('something of a')\n",
    "\n",
    "print(dict_of_list['a'])"
   ]
  },
  {
   "cell_type": "code",
   "execution_count": null,
   "metadata": {},
   "outputs": [],
   "source": []
  }
 ],
 "metadata": {
  "kernelspec": {
   "display_name": "Python 3",
   "language": "python",
   "name": "python3"
  },
  "language_info": {
   "codemirror_mode": {
    "name": "ipython",
    "version": 3
   },
   "file_extension": ".py",
   "mimetype": "text/x-python",
   "name": "python",
   "nbconvert_exporter": "python",
   "pygments_lexer": "ipython3",
   "version": "3.8.0"
  },
  "orig_nbformat": 4
 },
 "nbformat": 4,
 "nbformat_minor": 2
}
