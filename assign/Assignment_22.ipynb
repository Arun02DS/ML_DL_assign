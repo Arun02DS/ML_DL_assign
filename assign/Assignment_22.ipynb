{
 "cells": [
  {
   "cell_type": "markdown",
   "metadata": {},
   "source": [
    "1. What is the result of the code, and explain?\n",
    "\n",
    "\n",
    "\n",
    ">>> X = 'iNeuron'\n",
    "\n",
    ">>> def func():\n",
    "\n",
    "print(X)\n",
    "\n",
    "\n",
    "\n",
    ">>> func()"
   ]
  },
  {
   "cell_type": "code",
   "execution_count": 1,
   "metadata": {},
   "outputs": [],
   "source": [
    "X = 'iNeuron'\n",
    "\n",
    "def func():\n",
    "\n",
    "    print(X)\n"
   ]
  },
  {
   "cell_type": "code",
   "execution_count": 2,
   "metadata": {},
   "outputs": [
    {
     "name": "stdout",
     "output_type": "stream",
     "text": [
      "iNeuron\n"
     ]
    }
   ],
   "source": [
    "func()"
   ]
  },
  {
   "cell_type": "markdown",
   "metadata": {},
   "source": [
    "\n",
    "- A global variable `X` is defined with the value `'iNeuron'`.\n",
    "- The function `func` is defined without any parameters.\n",
    "- Inside the function `func`, it prints the value of the global variable `X` using the `print()` statement.\n",
    "- When the function is called with `func()`, it prints the value of the global variable `X`, which is `'iNeuron'`.\n",
    "\n",
    "Since `X` is a global variable, it can be accessed from within the function `func`, and when the function is called, it prints the value of `X`, which is `'iNeuron'`.\n",
    "\n",
    "----"
   ]
  },
  {
   "cell_type": "markdown",
   "metadata": {},
   "source": [
    "\n",
    "2. What is the result of the code, and explain?\n",
    "\n",
    "\n",
    "\n",
    ">>> X = 'iNeuron'\n",
    "\n",
    ">>> def func():\n",
    "\n",
    "X = 'NI!'\n",
    "\n",
    "\n",
    "\n",
    ">>> func()\n",
    "\n",
    ">>> print(X)"
   ]
  },
  {
   "cell_type": "code",
   "execution_count": 3,
   "metadata": {},
   "outputs": [],
   "source": [
    "X = 'iNeuron'\n",
    "\n",
    "def func():\n",
    "    X = 'NI!'"
   ]
  },
  {
   "cell_type": "code",
   "execution_count": 4,
   "metadata": {},
   "outputs": [],
   "source": [
    "func()"
   ]
  },
  {
   "cell_type": "code",
   "execution_count": 5,
   "metadata": {},
   "outputs": [
    {
     "name": "stdout",
     "output_type": "stream",
     "text": [
      "iNeuron\n"
     ]
    }
   ],
   "source": [
    "print(X)"
   ]
  },
  {
   "cell_type": "markdown",
   "metadata": {},
   "source": [
    "\n",
    "- A global variable `X` is defined with the value `'iNeuron'`.\n",
    "- The function `func` is defined without any parameters.\n",
    "- Inside the function `func`, a local variable `X` is defined with the value `'NI!'`. This local variable `X` exists only within the scope of the function and does not affect the global variable `X`.\n",
    "- When the function is called with `func()`, it defines a local variable `X` with the value `'NI!'`, but since this is a local variable, it does not modify the global variable `X`.\n",
    "- After calling the function, when `print(X)` is executed outside the function, it prints the value of the global variable `X`, which remains `'iNeuron'` since the local variable `X` inside the function does not affect the global variable.\n",
    "\n",
    "In Python, variables defined inside a function without using the `global` keyword are treated as local variables within the function's scope. If a variable with the same name as a global variable is defined inside the function, it creates a new local variable, shadowing the global one, and the modification inside the function does not affect the global variable.\n",
    "\n",
    "----"
   ]
  },
  {
   "cell_type": "markdown",
   "metadata": {},
   "source": [
    "3. What does this code print, and why?\n",
    "\n",
    "\n",
    "\n",
    ">>> X = 'iNeuron'\n",
    "\n",
    ">>> def func():\n",
    "\n",
    "X = 'NI'\n",
    "\n",
    "print(X)\n",
    "\n",
    "\n",
    "\n",
    ">>> func()\n",
    "\n",
    ">>> print(X)"
   ]
  },
  {
   "cell_type": "code",
   "execution_count": 6,
   "metadata": {},
   "outputs": [],
   "source": [
    ">>> X = 'iNeuron'\n",
    "\n",
    "def func():\n",
    "\n",
    "    X = 'NI'\n",
    "\n",
    "    print(X)"
   ]
  },
  {
   "cell_type": "code",
   "execution_count": 8,
   "metadata": {},
   "outputs": [
    {
     "name": "stdout",
     "output_type": "stream",
     "text": [
      "iNeuron\n"
     ]
    }
   ],
   "source": [
    "print(X)"
   ]
  },
  {
   "cell_type": "code",
   "execution_count": 7,
   "metadata": {},
   "outputs": [
    {
     "name": "stdout",
     "output_type": "stream",
     "text": [
      "NI\n"
     ]
    }
   ],
   "source": [
    "func()"
   ]
  },
  {
   "cell_type": "markdown",
   "metadata": {},
   "source": [
    "\n",
    "\n",
    "- A global variable `X` is defined with the value `'iNeuron'`.\n",
    "- The function `func` is defined without any parameters.\n",
    "- Inside the function `func`, a local variable `X` is defined with the value `'NI'`. This local variable `X` exists only within the scope of the function and does not affect the global variable `X`.\n",
    "- When the function is called with `func()`, it defines a local variable `X` with the value `'NI'` and prints the value of this local variable using the `print()` statement. The output inside the function is `'NI'`.\n",
    "- After calling the function, when `print(X)` is executed outside the function, it prints the value of the global variable `X`, which remains `'iNeuron'` since the local variable `X` inside the function does not affect the global variable.\n",
    "\n",
    "In this case, the local variable `X` inside the function shadows the global variable `X`. As a result, the `print(X)` statement inside the function prints the value of the local variable `X` (`'NI'`) within the function's scope, and the `print(X)` statement outside the function prints the value of the global variable `X` (`'iNeuron'`) defined outside the function.\n",
    "\n",
    "----"
   ]
  },
  {
   "cell_type": "markdown",
   "metadata": {},
   "source": [
    "4. What output does this code produce? Why?\n",
    "\n",
    "\n",
    "\n",
    ">>> X = 'iNeuron'\n",
    "\n",
    ">>> def func():\n",
    "\n",
    "global X\n",
    "\n",
    "X = 'NI'\n",
    "\n",
    "\n",
    "\n",
    ">>> func()\n",
    "\n",
    ">>> print(X)"
   ]
  },
  {
   "cell_type": "code",
   "execution_count": 9,
   "metadata": {},
   "outputs": [],
   "source": [
    "X = 'iNeuron'\n",
    "\n",
    "def func():\n",
    "\n",
    "    global X\n",
    "\n",
    "    X = 'NI'"
   ]
  },
  {
   "cell_type": "code",
   "execution_count": 10,
   "metadata": {},
   "outputs": [],
   "source": [
    "func()"
   ]
  },
  {
   "cell_type": "code",
   "execution_count": 11,
   "metadata": {},
   "outputs": [
    {
     "name": "stdout",
     "output_type": "stream",
     "text": [
      "NI\n"
     ]
    }
   ],
   "source": [
    "print(X)"
   ]
  },
  {
   "cell_type": "markdown",
   "metadata": {},
   "source": [
    "\n",
    "\n",
    "- A global variable `X` is defined with the value `'iNeuron'`.\n",
    "- The function `func` is defined without any parameters.\n",
    "- Inside the function `func`, the `global` keyword is used to declare that `X` is a global variable within the function's scope. This allows the function to modify the global variable `X`.\n",
    "- When the function is called with `func()`, it sets the value of the global variable `X` to `'NI'`.\n",
    "- After calling the function, when `print(X)` is executed outside the function, it prints the value of the modified global variable `X`, which is now `'NI'`.\n",
    "\n",
    "By using the `global` keyword inside the function, we explicitly state that the `X` variable being referred to is the global variable defined outside the function, not a local variable with the same name inside the function. As a result, when the function modifies the value of `X`, it modifies the global variable, and this change is reflected when the value of `X` is printed outside the function, resulting in `'NI'` as the output.\n",
    "\n",
    "----"
   ]
  },
  {
   "cell_type": "markdown",
   "metadata": {},
   "source": [
    "5. What about this code—what’s the output, and why?\n",
    "\n",
    "\n",
    "\n",
    ">>> X = 'iNeuron'\n",
    "\n",
    ">>> def func():\n",
    "\n",
    "X = 'NI'\n",
    "\n",
    "def nested():\n",
    "\n",
    "print(X)\n",
    "\n",
    "nested()\n",
    "\n",
    "\n",
    "\n",
    ">>> func()\n",
    "\n",
    ">>> X"
   ]
  },
  {
   "cell_type": "code",
   "execution_count": 16,
   "metadata": {},
   "outputs": [],
   "source": [
    "X = 'iNeuron'\n",
    "\n",
    "def func():\n",
    "\n",
    "    X = 'NI'\n",
    "\n",
    "    def nested():\n",
    "\n",
    "        print(X)\n",
    "\n",
    "    nested()\n"
   ]
  },
  {
   "cell_type": "code",
   "execution_count": 13,
   "metadata": {},
   "outputs": [
    {
     "name": "stdout",
     "output_type": "stream",
     "text": [
      "NI\n"
     ]
    }
   ],
   "source": [
    "func()"
   ]
  },
  {
   "cell_type": "code",
   "execution_count": 14,
   "metadata": {},
   "outputs": [
    {
     "data": {
      "text/plain": [
       "'iNeuron'"
      ]
     },
     "execution_count": 14,
     "metadata": {},
     "output_type": "execute_result"
    }
   ],
   "source": [
    "X"
   ]
  },
  {
   "cell_type": "markdown",
   "metadata": {},
   "source": [
    "\n",
    "- A global variable `X` is defined with the value `'iNeuron'`.\n",
    "- The function `func` is defined without any parameters.\n",
    "- Inside the function `func`, a local variable `X` is defined with the value `'NI'`. This local variable `X` exists only within the scope of the function `func` and does not affect the global variable `X`.\n",
    "- Inside the function `func`, another function `nested` is defined.\n",
    "- Inside the `nested` function, it prints the value of the local variable `X` (which is `'NI'`) using the `print()` statement.\n",
    "- After defining the `nested` function, the function `nested()` is called within the function `func`. When `nested()` is called, it prints the value of its local variable `X`, which is `'NI'`.\n",
    "- After calling the `nested()` function, the execution continues in the `func` function.\n",
    "- After the function call `func()`, when `X` is printed outside the function, it refers to the global variable `X`, and its value is `'iNeuron'`.\n",
    "\n",
    "In summary, the nested function `nested` has access to the local variable `X` defined in its enclosing function `func`. The `nested` function prints the value of its local `X` (`'NI'`) when it is called within `func`. However, the `X` variable outside the functions refers to the global variable, and its value remains `'iNeuron'` after the execution of the code.\n",
    "\n",
    "----"
   ]
  },
  {
   "cell_type": "markdown",
   "metadata": {},
   "source": [
    "6. How about this code: what is its output in Python 3, and explain?\n",
    "\n",
    "\n",
    "\n",
    ">>> def func():\n",
    "\n",
    "X = 'NI'\n",
    "\n",
    "def nested():\n",
    "\n",
    "nonlocal X\n",
    "\n",
    "X = 'Spam'\n",
    "\n",
    "nested()\n",
    "\n",
    "print(X)\n",
    "\n",
    "\n",
    "\n",
    ">>> func()"
   ]
  },
  {
   "cell_type": "code",
   "execution_count": 17,
   "metadata": {},
   "outputs": [],
   "source": [
    "def func():\n",
    "\n",
    "    X = 'NI'\n",
    "\n",
    "    def nested():\n",
    "\n",
    "        nonlocal X\n",
    "\n",
    "        X = 'Spam'\n",
    "\n",
    "    nested()\n",
    "\n",
    "    print(X)"
   ]
  },
  {
   "cell_type": "code",
   "execution_count": 18,
   "metadata": {},
   "outputs": [
    {
     "name": "stdout",
     "output_type": "stream",
     "text": [
      "Spam\n"
     ]
    }
   ],
   "source": [
    "\n",
    "func()"
   ]
  },
  {
   "cell_type": "markdown",
   "metadata": {},
   "source": [
    "\n",
    "- The function `func` is defined without any parameters.\n",
    "- Inside the function `func`, a local variable `X` is defined with the value `'NI'`. This local variable `X` exists only within the scope of the function `func`.\n",
    "- Inside the function `func`, another function `nested` is defined.\n",
    "- Inside the `nested` function, the `nonlocal` keyword is used to declare that `X` is a variable in the nearest enclosing scope that is not the global scope. In this case, it refers to the `X` variable in the `func` function's scope.\n",
    "- The `nonlocal` keyword allows the `nested` function to access and modify the local variable `X` defined in the enclosing `func` function.\n",
    "- Inside the `nested` function, the value of `X` is changed to `'Spam'` using the assignment statement `X = 'Spam'`.\n",
    "- After modifying `X`, the `nested` function is called within the `func` function.\n",
    "- After calling the `nested()` function, the execution continues in the `func` function, and it prints the value of the modified `X`, which is now `'Spam'`.\n",
    "\n",
    "In summary, the `nonlocal` keyword allows the `nested` function to modify the value of the local variable `X` defined in its nearest enclosing scope (`func` function). As a result, when `func()` is called, it prints the modified value of `X`, which is `'Spam'`.\n",
    "\n",
    "----"
   ]
  },
  {
   "cell_type": "markdown",
   "metadata": {},
   "source": []
  }
 ],
 "metadata": {
  "kernelspec": {
   "display_name": "Python 3",
   "language": "python",
   "name": "python3"
  },
  "language_info": {
   "codemirror_mode": {
    "name": "ipython",
    "version": 3
   },
   "file_extension": ".py",
   "mimetype": "text/x-python",
   "name": "python",
   "nbconvert_exporter": "python",
   "pygments_lexer": "ipython3",
   "version": "3.8.0"
  },
  "orig_nbformat": 4
 },
 "nbformat": 4,
 "nbformat_minor": 2
}
